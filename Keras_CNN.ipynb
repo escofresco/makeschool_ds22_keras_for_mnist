{
  "nbformat": 4,
  "nbformat_minor": 0,
  "metadata": {
    "colab": {
      "name": "Keras_CNN.ipynb",
      "provenance": [],
      "include_colab_link": true
    },
    "kernelspec": {
      "name": "python3",
      "display_name": "Python 3"
    },
    "accelerator": "GPU"
  },
  "cells": [
    {
      "cell_type": "markdown",
      "metadata": {
        "id": "view-in-github",
        "colab_type": "text"
      },
      "source": [
        "<a href=\"https://colab.research.google.com/github/escofresco/makeschool_ds22_keras_for_mnist/blob/main/Keras_CNN.ipynb\" target=\"_parent\"><img src=\"https://colab.research.google.com/assets/colab-badge.svg\" alt=\"Open In Colab\"/></a>"
      ]
    },
    {
      "cell_type": "markdown",
      "metadata": {
        "id": "zzDbi0Xe8IE3"
      },
      "source": [
        "# CNN with Keras"
      ]
    },
    {
      "cell_type": "code",
      "metadata": {
        "id": "DzCxz5ZqS1xf",
        "colab": {
          "base_uri": "https://localhost:8080/"
        },
        "outputId": "5d6947e0-1bb9-42a8-d6d0-d0983263174a"
      },
      "source": [
        "from keras.models import Sequential\n",
        "from keras.layers import Dense, Conv2D, Flatten, MaxPooling2D\n",
        "from keras.datasets import mnist\n",
        "from keras.utils import to_categorical\n",
        "import numpy as np\n",
        "\n",
        "# get train and test data\n",
        "(X_train, y_train), (X_test, y_test) = mnist.load_data()\n",
        "print(y_train[0])\n",
        "X_train = X_train.reshape(60000,28,28,1)\n",
        "X_test = X_test.reshape(10000,28,28,1)\n",
        "y_train = to_categorical(y_train) # one hot encode\n",
        "y_test = to_categorical(y_test) # one hot encode\n",
        "\n",
        "y_train[0]"
      ],
      "execution_count": 7,
      "outputs": [
        {
          "output_type": "stream",
          "text": [
            "Downloading data from https://storage.googleapis.com/tensorflow/tf-keras-datasets/mnist.npz\n",
            "11493376/11490434 [==============================] - 0s 0us/step\n",
            "5\n"
          ],
          "name": "stdout"
        },
        {
          "output_type": "execute_result",
          "data": {
            "text/plain": [
              "array([0., 0., 0., 0., 0., 1., 0., 0., 0., 0.], dtype=float32)"
            ]
          },
          "metadata": {
            "tags": []
          },
          "execution_count": 7
        }
      ]
    },
    {
      "cell_type": "code",
      "metadata": {
        "id": "IcDlpZFB4Epq",
        "outputId": "56c53ef9-12e8-4c84-d3f2-405bc4b208f7",
        "colab": {
          "base_uri": "https://localhost:8080/"
        }
      },
      "source": [
        "y_train.shape"
      ],
      "execution_count": 8,
      "outputs": [
        {
          "output_type": "execute_result",
          "data": {
            "text/plain": [
              "(60000, 10)"
            ]
          },
          "metadata": {
            "tags": []
          },
          "execution_count": 8
        }
      ]
    },
    {
      "cell_type": "code",
      "metadata": {
        "id": "K6YeJT0u8thg",
        "outputId": "1714abd8-fab5-498a-bd6b-dbafa0e3ec1b",
        "colab": {
          "base_uri": "https://localhost:8080/"
        }
      },
      "source": [
        "#set up the model\n",
        "model = Sequential()\n",
        "\n",
        "#add convultional layer\n",
        "model.add(Conv2D(32, (1, 1), padding=\"same\", activation=\"relu\"))\n",
        "\n",
        "model.add(Conv2D(64, (3, 3), padding=\"same\", activation=\"relu\"))\n",
        "\n",
        "model.add(Conv2D(128, (3, 3), padding=\"same\", activation=\"relu\"))\n",
        "model.add(MaxPooling2D(pool_size=(2, 2)))\n",
        "\n",
        "#add some other Dense layers here and Flatten()\n",
        "model.add(Flatten())\n",
        "\n",
        "model.add(Dense(10, activation='softmax'))\n",
        "\n",
        "#compile the model by setting the optimizer and loss and metrics\n",
        "model.compile(optimizer='adam', loss='categorical_crossentropy', metrics=['accuracy'])\n",
        "\n",
        "#fit to train and test\n",
        "model.fit(X_train.astype(np.float32), y_train.astype(np.float32), epochs=3)\n",
        "\n",
        "#prediction\n",
        "model.predict(X_test)"
      ],
      "execution_count": 9,
      "outputs": [
        {
          "output_type": "stream",
          "text": [
            "Epoch 1/3\n",
            "1875/1875 [==============================] - 10s 6ms/step - loss: 0.1739 - accuracy: 0.9639\n",
            "Epoch 2/3\n",
            "1875/1875 [==============================] - 10s 6ms/step - loss: 0.0517 - accuracy: 0.9840\n",
            "Epoch 3/3\n",
            "1875/1875 [==============================] - 11s 6ms/step - loss: 0.0353 - accuracy: 0.9886\n"
          ],
          "name": "stdout"
        },
        {
          "output_type": "execute_result",
          "data": {
            "text/plain": [
              "array([[1.0866094e-09, 1.2687811e-10, 7.7456100e-08, ..., 9.9999404e-01,\n",
              "        1.2006541e-08, 4.8774325e-08],\n",
              "       [1.2833297e-07, 3.3777005e-07, 9.9993074e-01, ..., 2.0781315e-12,\n",
              "        3.0194610e-07, 1.8196137e-12],\n",
              "       [1.1950154e-06, 9.9893111e-01, 1.5083702e-05, ..., 1.3510663e-04,\n",
              "        6.5488572e-04, 7.7661235e-07],\n",
              "       ...,\n",
              "       [9.0429356e-15, 5.4395932e-11, 1.1140157e-14, ..., 2.4313994e-08,\n",
              "        4.2886191e-07, 1.1981666e-09],\n",
              "       [2.2037809e-09, 6.7036970e-15, 9.0594178e-11, ..., 2.8249003e-09,\n",
              "        3.9374114e-05, 3.0145790e-09],\n",
              "       [7.0242643e-09, 2.7085610e-12, 1.3136325e-08, ..., 5.5189651e-12,\n",
              "        2.5590250e-08, 1.2793984e-10]], dtype=float32)"
            ]
          },
          "metadata": {
            "tags": []
          },
          "execution_count": 9
        }
      ]
    },
    {
      "cell_type": "markdown",
      "metadata": {
        "id": "xiqxHGr38PMR"
      },
      "source": [
        "# CNN with NumPy"
      ]
    },
    {
      "cell_type": "code",
      "metadata": {
        "id": "D4MkR3c67FGc"
      },
      "source": [
        "import skimage.data\n",
        "import skimage.color\n",
        "img = skimage.color.rgb2gray( skimage.data.chelsea() )"
      ],
      "execution_count": 10,
      "outputs": []
    },
    {
      "cell_type": "code",
      "metadata": {
        "id": "B9MBM4czaUqy"
      },
      "source": [
        "def conv(img, conv_filter):  \n",
        "    if len(img.shape) > 2 or len(conv_filter.shape) > 3: \n",
        "      if img.shape[-1] != conv_filter.shape[-1]:  \n",
        "              print(\"Error: Number of channels in both image and filter must match.\")  \n",
        "              sys.exit()  \n",
        "      if conv_filter.shape[1] != conv_filter.shape[2]: \n",
        "          print('Error: Filter must be a square matrix. I.e. number of rows and columns must match.')  \n",
        "          sys.exit()  \n",
        "      if conv_filter.shape[1]%2==0: \n",
        "          print('Error: Filter must have an odd size. I.e. number of rows and columns must be odd.')  \n",
        "          sys.exit()\n",
        "\n",
        "    feature_maps = np.zeros((img.shape[0]-conv_filter.shape[1]+1,   \n",
        "                                img.shape[1]-conv_filter.shape[1]+1,   \n",
        "                                conv_filter.shape[0]))  \n",
        "\n",
        "    for filter_num in range(conv_filter.shape[0]):  \n",
        "        print(\"Filter \", filter_num + 1)  \n",
        "        curr_filter = conv_filter[filter_num, :]\n",
        "        if len(curr_filter.shape) > 2:  \n",
        "            conv_map = conv_(img[:, :, 0], curr_filter[:, :, 0]) \n",
        "            for ch_num in range(1, curr_filter.shape[-1]):\n",
        "                conv_map = conv_map + conv_(img[:, :, ch_num],   \n",
        "                                  curr_filter[:, :, ch_num])  \n",
        "        else: \n",
        "              conv_map = conv_(img, curr_filter)  \n",
        "        feature_maps[:, :, filter_num] = conv_map\n",
        "    return feature_maps"
      ],
      "execution_count": 29,
      "outputs": []
    },
    {
      "cell_type": "code",
      "metadata": {
        "id": "tYmip_j8b-8P"
      },
      "source": [
        "def relu(feature_map):  \n",
        "   #Preparing the output of the ReLU activation function.  \n",
        "   relu_out = np.zeros(feature_map.shape)  \n",
        "   for map_num in range(feature_map.shape[-1]):  \n",
        "       for r in np.arange(0,feature_map.shape[0]):  \n",
        "           for c in np.arange(0, feature_map.shape[1]):  \n",
        "               relu_out[r, c, map_num] = np.max(feature_map[r, c, map_num], 0)"
      ],
      "execution_count": 26,
      "outputs": []
    },
    {
      "cell_type": "code",
      "metadata": {
        "id": "l1UMCfeDcDJc"
      },
      "source": [
        "def pooling(feature_map, size=2, stride=2):  \n",
        "    pool_out = np.zeros((np.uint16((feature_map.shape[0]-size+1)/stride),  \n",
        "                            np.uint16((feature_map.shape[1]-size+1)/stride),  \n",
        "                            feature_map.shape[-1]))  \n",
        "    for map_num in range(feature_map.shape[-1]):  \n",
        "        r2 = 0  \n",
        "        for r in np.arange(0,feature_map.shape[0]-size-1, stride):  \n",
        "            c2 = 0  \n",
        "            for c in np.arange(0, feature_map.shape[1]-size-1, stride):  \n",
        "                pool_out[r2, c2, map_num] = np.max(feature_map[r:r+size,  c:c+size])  \n",
        "                c2 = c2 + 1  \n",
        "                r2 = r2 +1  "
      ],
      "execution_count": 25,
      "outputs": []
    },
    {
      "cell_type": "code",
      "metadata": {
        "id": "-OS-NDQQeu24"
      },
      "source": [
        "l1_filter = np.zeros((2,3,3))\n",
        "l1_filter[0, :, :] = np.array([[[-1, 0, 1],   \n",
        "                                   [-1, 0, 1],   \n",
        "                                   [-1, 0, 1]]])  \n",
        "l1_filter[1, :, :] = np.array([[[1,   1,  1],   \n",
        "                                   [0,   0,  0],   \n",
        "                                   [-1, -1, -1]]])"
      ],
      "execution_count": 33,
      "outputs": []
    },
    {
      "cell_type": "code",
      "metadata": {
        "id": "KCSRb8-7a1H-",
        "outputId": "f5c1050e-c8f2-44ba-b52a-0afdf6afe359",
        "colab": {
          "base_uri": "https://localhost:8080/",
          "height": 370
        }
      },
      "source": [
        "## Layer 1\n",
        "l1_feature_map = conv(img, l1_filter)\n",
        "l1_feature_map_relu = relu(l1_feature_map)\n",
        "l1_feature_map_relu_pool = pooling(l1_feature_map_relu, 2, 2)\n",
        "\n",
        "## Layer 2\n",
        "l2_filter = numpy.random.rand(3, 5, 5, l1_feature_map_relu_pool.shape[-1])  \n",
        "l2_feature_map = conv(l1_feature_map_relu_pool, l2_filter)  \n",
        "l2_feature_map_relu = relu(l2_feature_map)  \n",
        "l2_feature_map_relu_pool = pooling(l2_feature_map_relu, 2, 2)  \n",
        "\n",
        "## Layer 3\n",
        "l3_filter = numpy.random.rand(1, 7, 7, l2_feature_map_relu_pool.shape[-1])  \n",
        "l3_feature_map = conv(l2_feature_map_relu_pool, l3_filter)  \n",
        "l3_feature_map_relu = relu(l3_feature_map)  \n",
        "l3_feature_map_relu_pool = pooling(l3_feature_map_relu, 2, 2)"
      ],
      "execution_count": 32,
      "outputs": [
        {
          "output_type": "error",
          "ename": "AttributeError",
          "evalue": "ignored",
          "traceback": [
            "\u001b[0;31m---------------------------------------------------------------------------\u001b[0m",
            "\u001b[0;31mAttributeError\u001b[0m                            Traceback (most recent call last)",
            "\u001b[0;32m<ipython-input-32-d4c3195f9b48>\u001b[0m in \u001b[0;36m<module>\u001b[0;34m()\u001b[0m\n\u001b[1;32m      1\u001b[0m \u001b[0;31m## Layer 1\u001b[0m\u001b[0;34m\u001b[0m\u001b[0;34m\u001b[0m\u001b[0;34m\u001b[0m\u001b[0m\n\u001b[1;32m      2\u001b[0m \u001b[0ml1_feature_map\u001b[0m \u001b[0;34m=\u001b[0m \u001b[0mconv\u001b[0m\u001b[0;34m(\u001b[0m\u001b[0mimg\u001b[0m\u001b[0;34m,\u001b[0m \u001b[0ml1_filter\u001b[0m\u001b[0;34m)\u001b[0m\u001b[0;34m\u001b[0m\u001b[0;34m\u001b[0m\u001b[0m\n\u001b[0;32m----> 3\u001b[0;31m \u001b[0ml1_feature_map_relu\u001b[0m \u001b[0;34m=\u001b[0m \u001b[0mrelu\u001b[0m\u001b[0;34m(\u001b[0m\u001b[0ml1_feature_map\u001b[0m\u001b[0;34m)\u001b[0m\u001b[0;34m\u001b[0m\u001b[0;34m\u001b[0m\u001b[0m\n\u001b[0m\u001b[1;32m      4\u001b[0m \u001b[0ml1_feature_map_relu_pool\u001b[0m \u001b[0;34m=\u001b[0m \u001b[0mpooling\u001b[0m\u001b[0;34m(\u001b[0m\u001b[0ml1_feature_map_relu\u001b[0m\u001b[0;34m,\u001b[0m \u001b[0;36m2\u001b[0m\u001b[0;34m,\u001b[0m \u001b[0;36m2\u001b[0m\u001b[0;34m)\u001b[0m\u001b[0;34m\u001b[0m\u001b[0;34m\u001b[0m\u001b[0m\n\u001b[1;32m      5\u001b[0m \u001b[0;34m\u001b[0m\u001b[0m\n",
            "\u001b[0;32m<ipython-input-26-8d727e68951a>\u001b[0m in \u001b[0;36mrelu\u001b[0;34m(feature_map)\u001b[0m\n\u001b[1;32m      1\u001b[0m \u001b[0;32mdef\u001b[0m \u001b[0mrelu\u001b[0m\u001b[0;34m(\u001b[0m\u001b[0mfeature_map\u001b[0m\u001b[0;34m)\u001b[0m\u001b[0;34m:\u001b[0m\u001b[0;34m\u001b[0m\u001b[0;34m\u001b[0m\u001b[0m\n\u001b[1;32m      2\u001b[0m    \u001b[0;31m#Preparing the output of the ReLU activation function.\u001b[0m\u001b[0;34m\u001b[0m\u001b[0;34m\u001b[0m\u001b[0;34m\u001b[0m\u001b[0m\n\u001b[0;32m----> 3\u001b[0;31m    \u001b[0mrelu_out\u001b[0m \u001b[0;34m=\u001b[0m \u001b[0mnp\u001b[0m\u001b[0;34m.\u001b[0m\u001b[0mzeros\u001b[0m\u001b[0;34m(\u001b[0m\u001b[0mfeature_map\u001b[0m\u001b[0;34m.\u001b[0m\u001b[0mshape\u001b[0m\u001b[0;34m)\u001b[0m\u001b[0;34m\u001b[0m\u001b[0;34m\u001b[0m\u001b[0m\n\u001b[0m\u001b[1;32m      4\u001b[0m    \u001b[0;32mfor\u001b[0m \u001b[0mmap_num\u001b[0m \u001b[0;32min\u001b[0m \u001b[0mrange\u001b[0m\u001b[0;34m(\u001b[0m\u001b[0mfeature_map\u001b[0m\u001b[0;34m.\u001b[0m\u001b[0mshape\u001b[0m\u001b[0;34m[\u001b[0m\u001b[0;34m-\u001b[0m\u001b[0;36m1\u001b[0m\u001b[0;34m]\u001b[0m\u001b[0;34m)\u001b[0m\u001b[0;34m:\u001b[0m\u001b[0;34m\u001b[0m\u001b[0;34m\u001b[0m\u001b[0m\n\u001b[1;32m      5\u001b[0m        \u001b[0;32mfor\u001b[0m \u001b[0mr\u001b[0m \u001b[0;32min\u001b[0m \u001b[0mnp\u001b[0m\u001b[0;34m.\u001b[0m\u001b[0marange\u001b[0m\u001b[0;34m(\u001b[0m\u001b[0;36m0\u001b[0m\u001b[0;34m,\u001b[0m\u001b[0mfeature_map\u001b[0m\u001b[0;34m.\u001b[0m\u001b[0mshape\u001b[0m\u001b[0;34m[\u001b[0m\u001b[0;36m0\u001b[0m\u001b[0;34m]\u001b[0m\u001b[0;34m)\u001b[0m\u001b[0;34m:\u001b[0m\u001b[0;34m\u001b[0m\u001b[0;34m\u001b[0m\u001b[0m\n",
            "\u001b[0;31mAttributeError\u001b[0m: 'NoneType' object has no attribute 'shape'"
          ]
        }
      ]
    },
    {
      "cell_type": "code",
      "metadata": {
        "id": "LoApduTRcz0b"
      },
      "source": [
        ""
      ],
      "execution_count": null,
      "outputs": []
    }
  ]
}