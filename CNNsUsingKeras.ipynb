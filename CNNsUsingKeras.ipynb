{
  "nbformat": 4,
  "nbformat_minor": 0,
  "metadata": {
    "kernelspec": {
      "display_name": "Python 3",
      "language": "python",
      "name": "python3"
    },
    "language_info": {
      "codemirror_mode": {
        "name": "ipython",
        "version": 3
      },
      "file_extension": ".py",
      "mimetype": "text/x-python",
      "name": "python",
      "nbconvert_exporter": "python",
      "pygments_lexer": "ipython3",
      "version": "3.7.7"
    },
    "colab": {
      "name": "CNNsUsingKeras.ipynb",
      "provenance": [],
      "collapsed_sections": [
        "BC_w8M0iZ-eP",
        "yyx1bAegf90R",
        "G3FUhiTXOWig",
        "QR11XF4GPj1y",
        "SXGR_kvhR5IZ",
        "UuFIxFAlatjD",
        "A7MDh8bmWou6"
      ],
      "include_colab_link": true
    },
    "accelerator": "GPU"
  },
  "cells": [
    {
      "cell_type": "markdown",
      "metadata": {
        "id": "view-in-github",
        "colab_type": "text"
      },
      "source": [
        "<a href=\"https://colab.research.google.com/github/escofresco/makeschool_ds22_keras_for_mnist/blob/main/CNNsUsingKeras.ipynb\" target=\"_parent\"><img src=\"https://colab.research.google.com/assets/colab-badge.svg\" alt=\"Open In Colab\"/></a>"
      ]
    },
    {
      "cell_type": "markdown",
      "metadata": {
        "id": "Wn-Os3fDZ-d_"
      },
      "source": [
        "# CNNs Using Keras"
      ]
    },
    {
      "cell_type": "markdown",
      "metadata": {
        "id": "mmczY1pWZ-eB"
      },
      "source": [
        "#### Introduction"
      ]
    },
    {
      "cell_type": "markdown",
      "metadata": {
        "id": "x8upKFL5Z-eB"
      },
      "source": [
        "In this notebook we'll be working with Convolutional Neural Networks (CNNs), a class of neural network that works particularly well with image data by filtering* (convolving). CNNs are a way to focus training on a subset of information, nullifying unimportant features. In theory, you can use a CNN wherever you use a vanilla neural net (with some restrictions). However, depending on your data, your mileage on speed and accuracy may vary. For images, we know CNNs tend to perform better and even for some speech problems a 1D CNN can be useful.\n",
        "\n",
        "We'll mainly be looking at image data, all similar to data we used in the *Introduction to Keras* notebook. That way, we may concentrate on learning CNNs rather than learn about new data.\n",
        "\n",
        "*note: By filtering, we mean, for example, adding a blurring effect (or a blur filter) onto an image. This might make understanding an image harder to us humans, but it makes it easier for a computer to understand and learn. Different filters work for di"
      ]
    },
    {
      "cell_type": "markdown",
      "metadata": {
        "id": "AzT0QJ83Z-eB"
      },
      "source": [
        "#### A note about training:"
      ]
    },
    {
      "cell_type": "markdown",
      "metadata": {
        "id": "N1suXURCZ-eB"
      },
      "source": [
        "Training locally might take a long while. CNNs are more computationally expensive and we are dealing with *deeper* networks, meaning training is no longer fast. As an example, running locally the first CNN model in this notebook took a couple of minutes per epoch. Colab's GPU, under 15 seconds per epoch. I **highly** recommend you do this on a GPU to speed up your results rather than waste potentially hours training.\n",
        "\n",
        "If on Colab, make your runtimes with a GPU by clicking on *Runtime*, *Change runtime*, and click on the dropdown menu to GPU."
      ]
    },
    {
      "cell_type": "markdown",
      "metadata": {
        "id": "wDAj-WIbZ-eB"
      },
      "source": [
        "## Revenge of Fashion MNIST"
      ]
    },
    {
      "cell_type": "markdown",
      "metadata": {
        "id": "XxmFsjBiZ-eC"
      },
      "source": [
        "In the previous notebook, we asked to train a simple neural network on a dataset known as Fashion MNIST. If you remember, getting results near or above the high 80%s was pretty difficult. Here we will show how CNNs fair when attacking this problem."
      ]
    },
    {
      "cell_type": "markdown",
      "metadata": {
        "id": "Qrk9jxhBZ-eD"
      },
      "source": [
        "#### Imports"
      ]
    },
    {
      "cell_type": "code",
      "metadata": {
        "ExecuteTime": {
          "end_time": "2020-12-02T15:30:57.823205Z",
          "start_time": "2020-12-02T15:30:48.369061Z"
        },
        "id": "dvBJHrLtZ-eD"
      },
      "source": [
        "import numpy as np\n",
        "import pandas as pd\n",
        "import matplotlib.pyplot as plt\n",
        "%matplotlib inline\n",
        "\n",
        "from tensorflow import keras\n",
        "# I am assuming tensorflow is installed in your machine since the last \n",
        "# notebook. However, if you need it installed again, unmute and run below\n",
        "# !pip install tensorflow"
      ],
      "execution_count": 1,
      "outputs": []
    },
    {
      "cell_type": "markdown",
      "metadata": {
        "id": "9Kl9ueswZ-eE"
      },
      "source": [
        "For reproducible (and grading purposes)"
      ]
    },
    {
      "cell_type": "code",
      "metadata": {
        "ExecuteTime": {
          "end_time": "2020-12-02T15:31:29.126659Z",
          "start_time": "2020-12-02T15:31:29.113730Z"
        },
        "id": "zBB_SSLHZ-eF"
      },
      "source": [
        "from numpy.random import seed\n",
        "seed(42)\n",
        "from tensorflow.random import set_seed\n",
        "set_seed(42)\n",
        "#If the two lines above give you error, mute them and run the following:\n",
        "# import tensorflow\n",
        "# tensorflow.random.set_seed(42)"
      ],
      "execution_count": 2,
      "outputs": []
    },
    {
      "cell_type": "markdown",
      "metadata": {
        "id": "N69Ota0-Z-eF"
      },
      "source": [
        "### Loading and Preprocessing"
      ]
    },
    {
      "cell_type": "code",
      "metadata": {
        "ExecuteTime": {
          "end_time": "2020-12-02T15:35:03.527916Z",
          "start_time": "2020-12-02T15:35:02.639522Z"
        },
        "id": "HtfliLf9Z-eF",
        "outputId": "35f8853f-b2db-41f4-987e-fd5c28ec262d",
        "colab": {
          "base_uri": "https://localhost:8080/"
        }
      },
      "source": [
        "# Loading datasets\n",
        "fashion = keras.datasets.fashion_mnist\n",
        "(X_train_full, y_train_full), (X_test, y_test) = fashion.load_data()\n",
        "\n",
        "# Setting labels\n",
        "labels = [\"T-shirt/top\", \"Trouser\", \"Pullover\", \"Dress\", \"Coat\", \"Sandal\", \n",
        "         \"Shirt\", \"Sneaker\", \"Bag\", \"Ankle boot\"]\n",
        "\n",
        "# Seeing shapes of data\n",
        "print(\"X_train:\", X_train_full.shape)\n",
        "print(\"y_train:\", y_train_full.shape)\n",
        "print(\"X_test:\", X_test.shape)\n",
        "print(\"y_test:\", y_test.shape)"
      ],
      "execution_count": 3,
      "outputs": [
        {
          "output_type": "stream",
          "text": [
            "Downloading data from https://storage.googleapis.com/tensorflow/tf-keras-datasets/train-labels-idx1-ubyte.gz\n",
            "32768/29515 [=================================] - 0s 0us/step\n",
            "Downloading data from https://storage.googleapis.com/tensorflow/tf-keras-datasets/train-images-idx3-ubyte.gz\n",
            "26427392/26421880 [==============================] - 0s 0us/step\n",
            "Downloading data from https://storage.googleapis.com/tensorflow/tf-keras-datasets/t10k-labels-idx1-ubyte.gz\n",
            "8192/5148 [===============================================] - 0s 0us/step\n",
            "Downloading data from https://storage.googleapis.com/tensorflow/tf-keras-datasets/t10k-images-idx3-ubyte.gz\n",
            "4423680/4422102 [==============================] - 0s 0us/step\n",
            "X_train: (60000, 28, 28)\n",
            "y_train: (60000,)\n",
            "X_test: (10000, 28, 28)\n",
            "y_test: (10000,)\n"
          ],
          "name": "stdout"
        }
      ]
    },
    {
      "cell_type": "markdown",
      "metadata": {
        "id": "JUtL86NtZ-eK"
      },
      "source": [
        "In case you would like to see how this data looks like again:"
      ]
    },
    {
      "cell_type": "code",
      "metadata": {
        "ExecuteTime": {
          "end_time": "2020-12-02T15:35:34.646376Z",
          "start_time": "2020-12-02T15:35:34.482959Z"
        },
        "id": "k0-QqX0IZ-eK",
        "outputId": "10e7421e-63c5-40ea-f5bb-212a94e85c07",
        "colab": {
          "base_uri": "https://localhost:8080/",
          "height": 375
        }
      },
      "source": [
        "# Rerun to get different images\n",
        "def plotImage(image):\n",
        "    \"\"\"A 28x28 array that represents an image.\"\"\"\n",
        "    plt.figure(figsize=(6, 6))\n",
        "    plt.imshow(image, cmap=\"gray\")\n",
        "    plt.axis(False)\n",
        "    plt.show()\n",
        "sample_image = np.random.randint(0, len(X_train_full))\n",
        "print(\"The expected value is:\", labels[y_train_full[sample_image]])\n",
        "plotImage(X_train_full[sample_image])"
      ],
      "execution_count": 4,
      "outputs": [
        {
          "output_type": "stream",
          "text": [
            "The expected value is: Trouser\n"
          ],
          "name": "stdout"
        },
        {
          "output_type": "display_data",
          "data": {
            "image/png": "[encoded data removed]",
            "text/plain": [
              "<Figure size 432x432 with 1 Axes>"
            ]
          },
          "metadata": {
            "tags": [],
            "needs_background": "light"
          }
        }
      ]
    },
    {
      "cell_type": "markdown",
      "metadata": {
        "id": "2c-BHC5uZ-eK"
      },
      "source": [
        "Splitting our data into Train / Validate / Test and normalizing/scale our data (preprocessing in order to obtain better results)."
      ]
    },
    {
      "cell_type": "code",
      "metadata": {
        "ExecuteTime": {
          "end_time": "2020-12-02T15:38:39.237973Z",
          "start_time": "2020-12-02T15:38:38.150563Z"
        },
        "id": "KuvfM2eeZ-eL"
      },
      "source": [
        "X_valid, X_train = X_train_full[:5000] / 255, X_train_full[5000:] / 255\n",
        "y_valid, y_train = y_train_full[:5000], y_train_full[5000:]\n",
        "X_test = X_test / 255\n",
        "#No need to do y_test since it's not being fed into the data.\n",
        "#Also, data is already shuffled, so no need to do so here"
      ],
      "execution_count": 5,
      "outputs": []
    },
    {
      "cell_type": "markdown",
      "metadata": {
        "id": "LVLKu6qGZ-eL"
      },
      "source": [
        "Lastly, CNNs input a 3D tensor (for a 2D convolution). The current shape of our input data:"
      ]
    },
    {
      "cell_type": "code",
      "metadata": {
        "ExecuteTime": {
          "end_time": "2020-12-02T15:50:57.979931Z",
          "start_time": "2020-12-02T15:50:57.943014Z"
        },
        "id": "DkasZl34Z-eL",
        "outputId": "3c2b6643-96bd-4f8b-97b8-de3f25753f91",
        "colab": {
          "base_uri": "https://localhost:8080/"
        }
      },
      "source": [
        "X_train.shape"
      ],
      "execution_count": 6,
      "outputs": [
        {
          "output_type": "execute_result",
          "data": {
            "text/plain": [
              "(55000, 28, 28)"
            ]
          },
          "metadata": {
            "tags": []
          },
          "execution_count": 6
        }
      ]
    },
    {
      "cell_type": "markdown",
      "metadata": {
        "id": "2jZ4lZWNZ-eN"
      },
      "source": [
        "is 2D, 28x28 (the 55000 is the number of images saved to the variable). So we reshape our input data using this trick:"
      ]
    },
    {
      "cell_type": "code",
      "metadata": {
        "ExecuteTime": {
          "end_time": "2020-12-02T15:57:23.512046Z",
          "start_time": "2020-12-02T15:57:23.502328Z"
        },
        "id": "6VNGzD9DZ-eN"
      },
      "source": [
        "def reshape_2D_to_3D(X):\n",
        "    \"\"\"Reshape variable from 2D to 3D of an X of shape (length, x, y) by adding \n",
        "    a 1 as a dimension in numpy's reshape function to out (length, x, y, color \n",
        "    channel).\n",
        "    \"\"\"\n",
        "    return np.reshape(X, (X.shape[0], X.shape[1], X.shape[2], 1))\n",
        "X_train = reshape_2D_to_3D(X_train)\n",
        "X_valid = reshape_2D_to_3D(X_valid)\n",
        "X_test = reshape_2D_to_3D(X_test)"
      ],
      "execution_count": 7,
      "outputs": []
    },
    {
      "cell_type": "code",
      "metadata": {
        "ExecuteTime": {
          "end_time": "2020-12-02T15:58:06.035626Z",
          "start_time": "2020-12-02T15:58:06.016530Z"
        },
        "id": "MIXKAjRsZ-eN",
        "outputId": "5438c72f-be77-4f58-d760-248ec8d40010",
        "colab": {
          "base_uri": "https://localhost:8080/"
        }
      },
      "source": [
        "print(\"X_train:\", X_train.shape)\n",
        "print(\"X_valid:\", X_valid.shape)\n",
        "print(\"X_test:\", X_test.shape)"
      ],
      "execution_count": 8,
      "outputs": [
        {
          "output_type": "stream",
          "text": [
            "X_train: (55000, 28, 28, 1)\n",
            "X_valid: (5000, 28, 28, 1)\n",
            "X_test: (10000, 28, 28, 1)\n"
          ],
          "name": "stdout"
        }
      ]
    },
    {
      "cell_type": "markdown",
      "metadata": {
        "id": "2jI_34v-Z-eO"
      },
      "source": [
        "Now we're ready to create a CNN"
      ]
    },
    {
      "cell_type": "markdown",
      "metadata": {
        "id": "BC_w8M0iZ-eP"
      },
      "source": [
        "### Creating A (somwehat) Simple CNN"
      ]
    },
    {
      "cell_type": "markdown",
      "metadata": {
        "id": "1KyhpvxNZ-eP"
      },
      "source": [
        "A basic CNN tends to have a two-part structure, the *convolution* part and the more simple neural network part. You can think of the convolution part as a matter of modifying your input into a simple neural network. Since, however, we use a convolutional neural network, we call it a CNN rather than an NN. \n",
        "\n",
        "A deeper review of the structure of a CNN can be found [here](https://www.makeschool.com/academy/track/standalone/keras-for-image-classification-pfw/building-a-keras-sequential-model) (shoutout to Andre Williams for bring this to light and Akash for creating it). To make things consistent, I've decided to make copy the model structure they used and use it for our model."
      ]
    },
    {
      "cell_type": "code",
      "metadata": {
        "id": "ZbF99CjXZ-eP"
      },
      "source": [
        "from numpy.random import seed\n",
        "seed(42)\n",
        "from tensorflow.random import set_seed\n",
        "set_seed(42)\n",
        "# If the two lines above give you error, mute them and run the following:\n",
        "# import tensorflow\n",
        "# tensorflow.random.set_seed(42)"
      ],
      "execution_count": 9,
      "outputs": []
    },
    {
      "cell_type": "code",
      "metadata": {
        "ExecuteTime": {
          "end_time": "2020-12-02T16:49:07.360227Z",
          "start_time": "2020-12-02T16:49:06.654548Z"
        },
        "id": "Q4FKj5HUZ-eP"
      },
      "source": [
        "from tensorflow.keras import Sequential\n",
        "from tensorflow.keras.layers import Dropout, Flatten, Dense, Conv2D, MaxPooling2D\n",
        "\n",
        "model = Sequential()\n",
        "\n",
        "# Convolution part\n",
        "model.add(Conv2D(32, kernel_size=(3, 3), padding='same', \n",
        "                 input_shape=X_train.shape[1:], activation='relu'))\n",
        "model.add(Conv2D(32, kernel_size=(3, 3), activation='relu'))\n",
        "model.add(MaxPooling2D(pool_size=(2, 2)))\n",
        "model.add(Dropout(0.25))\n",
        "\n",
        "model.add(Conv2D(64, kernel_size=(3, 3), padding='same', activation='relu'))\n",
        "model.add(Conv2D(64, kernel_size=(3, 3), activation='relu'))\n",
        "model.add(MaxPooling2D(pool_size=(2, 2)))\n",
        "model.add(Dropout(0.25))\n",
        "\n",
        "# Simple Neural Network\n",
        "model.add(Flatten())\n",
        "model.add(Dense(512, activation='relu'))\n",
        "model.add(Dropout(0.5))\n",
        "model.add(Dense(10, activation=\"softmax\")) # This is the number of classes/labels"
      ],
      "execution_count": 10,
      "outputs": []
    },
    {
      "cell_type": "markdown",
      "metadata": {
        "id": "g3sycreEZ-eP"
      },
      "source": [
        "As a guide, here's what each line mean above (copied from [Akask's CNN implementation](https://www.makeschool.com/academy/track/standalone/keras-for-image-classification-pfw/building-a-keras-sequential-model)):\n",
        "7. Convolutional input layer, 32 feature maps with a size of 3×3, a rectifier activation function\n",
        "9. Convolutional input layer, 32 feature maps with a size of 3×3, a rectifier activation function\n",
        "10. Max Pool layer with size 2×2\n",
        "11. Dropout set to 25%\n",
        "13. Convolutional input layer, 64 feature maps with a size of 3×3, a rectifier activation function\n",
        "14. Convolutional input layer, 64 feature maps with a size of 3×3, a rectifier activation function\n",
        "15. Max Pool layer with size 2×2\n",
        "16. Dropout set to 25%\n",
        "19. Flatten layer, from here on out your model follows a simple NN structure\n",
        "20. Fully connected layer with 512 units and a rectifier activation function\n",
        "21. Dropout set to 50%\n",
        "22. Fully connected output layer with 10 units and a softmax activation function\n",
        "\n",
        "See Akash's implementation for a deeper understanding in what these layers are doing."
      ]
    },
    {
      "cell_type": "markdown",
      "metadata": {
        "id": "b1PwJEXjZ-eP"
      },
      "source": [
        "Now we will compile and build our model"
      ]
    },
    {
      "cell_type": "code",
      "metadata": {
        "ExecuteTime": {
          "end_time": "2020-12-02T16:52:04.900982Z",
          "start_time": "2020-12-02T16:52:04.626071Z"
        },
        "id": "vGpdba9FZ-eP",
        "outputId": "d5dc9392-d6cb-431a-907b-e3d669df88ab",
        "colab": {
          "base_uri": "https://localhost:8080/"
        }
      },
      "source": [
        "model.compile(loss='sparse_categorical_crossentropy', optimizer='sgd', \n",
        "              metrics=['accuracy'])\n",
        "model.summary()"
      ],
      "execution_count": 11,
      "outputs": [
        {
          "output_type": "stream",
          "text": [
            "Model: \"sequential\"\n",
            "_________________________________________________________________\n",
            "Layer (type)                 Output Shape              Param #   \n",
            "=================================================================\n",
            "conv2d (Conv2D)              (None, 28, 28, 32)        320       \n",
            "_________________________________________________________________\n",
            "conv2d_1 (Conv2D)            (None, 26, 26, 32)        9248      \n",
            "_________________________________________________________________\n",
            "max_pooling2d (MaxPooling2D) (None, 13, 13, 32)        0         \n",
            "_________________________________________________________________\n",
            "dropout (Dropout)            (None, 13, 13, 32)        0         \n",
            "_________________________________________________________________\n",
            "conv2d_2 (Conv2D)            (None, 13, 13, 64)        18496     \n",
            "_________________________________________________________________\n",
            "conv2d_3 (Conv2D)            (None, 11, 11, 64)        36928     \n",
            "_________________________________________________________________\n",
            "max_pooling2d_1 (MaxPooling2 (None, 5, 5, 64)          0         \n",
            "_________________________________________________________________\n",
            "dropout_1 (Dropout)          (None, 5, 5, 64)          0         \n",
            "_________________________________________________________________\n",
            "flatten (Flatten)            (None, 1600)              0         \n",
            "_________________________________________________________________\n",
            "dense (Dense)                (None, 512)               819712    \n",
            "_________________________________________________________________\n",
            "dropout_2 (Dropout)          (None, 512)               0         \n",
            "_________________________________________________________________\n",
            "dense_1 (Dense)              (None, 10)                5130      \n",
            "=================================================================\n",
            "Total params: 889,834\n",
            "Trainable params: 889,834\n",
            "Non-trainable params: 0\n",
            "_________________________________________________________________\n"
          ],
          "name": "stdout"
        }
      ]
    },
    {
      "cell_type": "markdown",
      "metadata": {
        "id": "OrIpTICuZ-eQ"
      },
      "source": [
        "Let's train our model."
      ]
    },
    {
      "cell_type": "code",
      "metadata": {
        "ExecuteTime": {
          "start_time": "2020-12-02T16:53:50.032Z"
        },
        "id": "Xh02IQ3MZ-eQ",
        "outputId": "fc847052-b8b9-46a6-9dcb-ab33b0a5dd34",
        "colab": {
          "base_uri": "https://localhost:8080/"
        }
      },
      "source": [
        "# May take a LONG while locally\n",
        "history = model.fit(X_train, y_train, epochs=30, \n",
        "                  validation_data=(X_valid, y_valid))"
      ],
      "execution_count": 12,
      "outputs": [
        {
          "output_type": "stream",
          "text": [
            "Epoch 1/30\n",
            "1719/1719 [==============================] - 6s 3ms/step - loss: 1.0774 - accuracy: 0.6008 - val_loss: 0.5749 - val_accuracy: 0.7880\n",
            "Epoch 2/30\n",
            "1719/1719 [==============================] - 6s 3ms/step - loss: 0.6156 - accuracy: 0.7685 - val_loss: 0.4750 - val_accuracy: 0.8198\n",
            "Epoch 3/30\n",
            "1719/1719 [==============================] - 6s 3ms/step - loss: 0.5322 - accuracy: 0.8017 - val_loss: 0.4304 - val_accuracy: 0.8440\n",
            "Epoch 4/30\n",
            "1719/1719 [==============================] - 6s 3ms/step - loss: 0.4860 - accuracy: 0.8210 - val_loss: 0.3874 - val_accuracy: 0.8606\n",
            "Epoch 5/30\n",
            "1719/1719 [==============================] - 6s 3ms/step - loss: 0.4518 - accuracy: 0.8336 - val_loss: 0.3654 - val_accuracy: 0.8666\n",
            "Epoch 6/30\n",
            "1719/1719 [==============================] - 6s 3ms/step - loss: 0.4232 - accuracy: 0.8447 - val_loss: 0.3379 - val_accuracy: 0.8772\n",
            "Epoch 7/30\n",
            "1719/1719 [==============================] - 6s 3ms/step - loss: 0.4010 - accuracy: 0.8535 - val_loss: 0.3269 - val_accuracy: 0.8778\n",
            "Epoch 8/30\n",
            "1719/1719 [==============================] - 6s 3ms/step - loss: 0.3819 - accuracy: 0.8594 - val_loss: 0.3219 - val_accuracy: 0.8794\n",
            "Epoch 9/30\n",
            "1719/1719 [==============================] - 6s 3ms/step - loss: 0.3663 - accuracy: 0.8663 - val_loss: 0.2978 - val_accuracy: 0.8892\n",
            "Epoch 10/30\n",
            "1719/1719 [==============================] - 6s 3ms/step - loss: 0.3534 - accuracy: 0.8688 - val_loss: 0.2901 - val_accuracy: 0.8926\n",
            "Epoch 11/30\n",
            "1719/1719 [==============================] - 6s 3ms/step - loss: 0.3410 - accuracy: 0.8748 - val_loss: 0.2878 - val_accuracy: 0.8918\n",
            "Epoch 12/30\n",
            "1719/1719 [==============================] - 6s 3ms/step - loss: 0.3323 - accuracy: 0.8782 - val_loss: 0.2765 - val_accuracy: 0.8980\n",
            "Epoch 13/30\n",
            "1719/1719 [==============================] - 6s 3ms/step - loss: 0.3222 - accuracy: 0.8816 - val_loss: 0.2710 - val_accuracy: 0.8998\n",
            "Epoch 14/30\n",
            "1719/1719 [==============================] - 6s 3ms/step - loss: 0.3148 - accuracy: 0.8843 - val_loss: 0.2712 - val_accuracy: 0.8990\n",
            "Epoch 15/30\n",
            "1719/1719 [==============================] - 6s 3ms/step - loss: 0.3070 - accuracy: 0.8865 - val_loss: 0.2620 - val_accuracy: 0.9050\n",
            "Epoch 16/30\n",
            "1719/1719 [==============================] - 6s 3ms/step - loss: 0.3001 - accuracy: 0.8894 - val_loss: 0.2529 - val_accuracy: 0.9054\n",
            "Epoch 17/30\n",
            "1719/1719 [==============================] - 6s 3ms/step - loss: 0.2935 - accuracy: 0.8903 - val_loss: 0.2601 - val_accuracy: 0.8998\n",
            "Epoch 18/30\n",
            "1719/1719 [==============================] - 6s 3ms/step - loss: 0.2886 - accuracy: 0.8936 - val_loss: 0.2432 - val_accuracy: 0.9106\n",
            "Epoch 19/30\n",
            "1719/1719 [==============================] - 6s 3ms/step - loss: 0.2821 - accuracy: 0.8964 - val_loss: 0.2453 - val_accuracy: 0.9082\n",
            "Epoch 20/30\n",
            "1719/1719 [==============================] - 6s 3ms/step - loss: 0.2783 - accuracy: 0.8978 - val_loss: 0.2455 - val_accuracy: 0.9092\n",
            "Epoch 21/30\n",
            "1719/1719 [==============================] - 6s 3ms/step - loss: 0.2710 - accuracy: 0.9012 - val_loss: 0.2352 - val_accuracy: 0.9120\n",
            "Epoch 22/30\n",
            "1719/1719 [==============================] - 6s 3ms/step - loss: 0.2683 - accuracy: 0.9004 - val_loss: 0.2317 - val_accuracy: 0.9130\n",
            "Epoch 23/30\n",
            "1719/1719 [==============================] - 6s 3ms/step - loss: 0.2639 - accuracy: 0.9021 - val_loss: 0.2293 - val_accuracy: 0.9148\n",
            "Epoch 24/30\n",
            "1719/1719 [==============================] - 6s 3ms/step - loss: 0.2569 - accuracy: 0.9055 - val_loss: 0.2305 - val_accuracy: 0.9152\n",
            "Epoch 25/30\n",
            "1719/1719 [==============================] - 6s 3ms/step - loss: 0.2545 - accuracy: 0.9058 - val_loss: 0.2305 - val_accuracy: 0.9148\n",
            "Epoch 26/30\n",
            "1719/1719 [==============================] - 6s 3ms/step - loss: 0.2507 - accuracy: 0.9079 - val_loss: 0.2208 - val_accuracy: 0.9202\n",
            "Epoch 27/30\n",
            "1719/1719 [==============================] - 6s 3ms/step - loss: 0.2503 - accuracy: 0.9085 - val_loss: 0.2225 - val_accuracy: 0.9164\n",
            "Epoch 28/30\n",
            "1719/1719 [==============================] - 6s 3ms/step - loss: 0.2467 - accuracy: 0.9092 - val_loss: 0.2215 - val_accuracy: 0.9168\n",
            "Epoch 29/30\n",
            "1719/1719 [==============================] - 6s 3ms/step - loss: 0.2408 - accuracy: 0.9109 - val_loss: 0.2185 - val_accuracy: 0.9206\n",
            "Epoch 30/30\n",
            "1719/1719 [==============================] - 6s 3ms/step - loss: 0.2423 - accuracy: 0.9098 - val_loss: 0.2191 - val_accuracy: 0.9198\n"
          ],
          "name": "stdout"
        }
      ]
    },
    {
      "cell_type": "code",
      "metadata": {
        "id": "8ai6ilPmZ-eR",
        "outputId": "b0c31d6d-7724-40a4-bd19-baea89f34b15",
        "colab": {
          "base_uri": "https://localhost:8080/",
          "height": 468
        }
      },
      "source": [
        "# Plotting Accuracy\n",
        "plt.figure(figsize = (20, 7))\n",
        "plt.plot(np.arange(1, 31), history.history[\"accuracy\"], label = \"Train Data\")\n",
        "plt.plot(np.arange(1, 31), history.history[\"val_accuracy\"], label = \"Test Data\")\n",
        "plt.legend(fontsize = 15)\n",
        "plt.xlabel(\"Epoch\", size = 15)\n",
        "plt.ylabel(\"Accuracy\", size = 15)\n",
        "plt.title(\"Accuracy of Fashion MNIST over Epochs\", size = 20)\n",
        "plt.grid()\n",
        "plt.show()"
      ],
      "execution_count": 13,
      "outputs": [
        {
          "output_type": "display_data",
          "data": {
            "image/png": "[encoded data removed]",
            "text/plain": [
              "<Figure size 1440x504 with 1 Axes>"
            ]
          },
          "metadata": {
            "tags": [],
            "needs_background": "light"
          }
        }
      ]
    },
    {
      "cell_type": "code",
      "metadata": {
        "id": "6tBk6whTdICx",
        "outputId": "f2527ff3-6295-430b-f701-6fdca89b6452",
        "colab": {
          "base_uri": "https://localhost:8080/",
          "height": 468
        }
      },
      "source": [
        "# Plotting Loss\n",
        "plt.figure(figsize = (20, 7))\n",
        "plt.plot(np.arange(1, 31), history.history[\"loss\"], label = \"Train Data\")\n",
        "plt.plot(np.arange(1, 31), history.history[\"val_loss\"], label = \"Test Data\")\n",
        "plt.legend(fontsize = 15)\n",
        "plt.xlabel(\"Epoch\", size = 15)\n",
        "plt.ylabel(\"Loss\", size = 15)\n",
        "plt.title(\"Loss of MNIST over Epochs\", size = 20)\n",
        "plt.grid()\n",
        "plt.show()"
      ],
      "execution_count": 14,
      "outputs": [
        {
          "output_type": "display_data",
          "data": {
            "image/png": "[encoded data removed]",
            "text/plain": [
              "<Figure size 1440x504 with 1 Axes>"
            ]
          },
          "metadata": {
            "tags": [],
            "needs_background": "light"
          }
        }
      ]
    },
    {
      "cell_type": "markdown",
      "metadata": {
        "id": "HYadliYVdVGf"
      },
      "source": [
        "As usual, let's make a confusion matrix to analyze error:"
      ]
    },
    {
      "cell_type": "code",
      "metadata": {
        "id": "CzOEJtt1dPTi",
        "outputId": "9854fdf0-0377-4c20-dbb8-23133cc866a8",
        "colab": {
          "base_uri": "https://localhost:8080/"
        }
      },
      "source": [
        "# Determining error from confusion matrix\n",
        "from sklearn.metrics import confusion_matrix\n",
        "confusion_matrix(y_test, np.argmax(model.predict(X_test), axis = -1))"
      ],
      "execution_count": 15,
      "outputs": [
        {
          "output_type": "execute_result",
          "data": {
            "text/plain": [
              "array([[885,   0,  15,  24,   6,   2,  63,   0,   5,   0],\n",
              "       [  0, 981,   0,  13,   3,   0,   1,   0,   2,   0],\n",
              "       [ 13,   0, 871,  10,  59,   0,  45,   0,   2,   0],\n",
              "       [  7,   1,   7, 923,  38,   0,  23,   0,   1,   0],\n",
              "       [  1,   1,  24,  20, 908,   0,  45,   0,   1,   0],\n",
              "       [  0,   0,   0,   0,   0, 986,   0,   9,   0,   5],\n",
              "       [142,   1,  54,  29,  86,   0, 678,   0,  10,   0],\n",
              "       [  0,   0,   0,   0,   0,  14,   0, 963,   0,  23],\n",
              "       [  3,   1,   4,   3,   2,   2,   0,   2, 983,   0],\n",
              "       [  0,   0,   1,   0,   0,   4,   0,  24,   0, 971]])"
            ]
          },
          "metadata": {
            "tags": []
          },
          "execution_count": 15
        }
      ]
    },
    {
      "cell_type": "code",
      "metadata": {
        "id": "UdDW1movdcg0",
        "outputId": "747e5f40-4ed3-434f-f78c-2f604e5a782c",
        "colab": {
          "base_uri": "https://localhost:8080/",
          "height": 597
        }
      },
      "source": [
        "#Creating a plotting function for a confusion matrix\n",
        "import itertools\n",
        "cm = confusion_matrix(y_test, np.argmax(model.predict(X_test), axis = -1))\n",
        "plt.figure(figsize=(10, 10))\n",
        "plt.imshow(cm, plt.cm.Blues)\n",
        "plt.colorbar()\n",
        "plt.title(\"Confusion Matrix For Model vs True Labels\", size = 20)\n",
        "fmt = 'd'\n",
        "thresh = cm.max() / 2.\n",
        "for i, j in itertools.product(range(cm.shape[0]), range(cm.shape[1])):\n",
        "    plt.text(j, i, format(cm[i, j], fmt),\n",
        "              horizontalalignment=\"center\",\n",
        "              color=\"white\" if cm[i, j] > thresh else \"black\")\n",
        "plt.xlabel(\"Predicted Labels\", size = 15)\n",
        "plt.xticks(np.arange(0, 10), labels=labels, rotation = 45)\n",
        "plt.ylabel(\"True Labels\", size = 15)\n",
        "plt.yticks(np.arange(0, 10), labels=labels)\n",
        "plt.show()"
      ],
      "execution_count": 16,
      "outputs": [
        {
          "output_type": "display_data",
          "data": {
            "image/png": "[encoded data removed]",
            "text/plain": [
              "<Figure size 720x720 with 2 Axes>"
            ]
          },
          "metadata": {
            "tags": [],
            "needs_background": "light"
          }
        }
      ]
    },
    {
      "cell_type": "markdown",
      "metadata": {
        "id": "iEl96t_7d83S"
      },
      "source": [
        "Both our training and validation accuracy exceed over 90%, which is higher than in our previous notebook. Let's evaluate our test data to see how it fairs."
      ]
    },
    {
      "cell_type": "code",
      "metadata": {
        "id": "ryz4LaW3dgi6",
        "outputId": "28f373c2-1efe-42df-cbc5-a5153cac0f4d",
        "colab": {
          "base_uri": "https://localhost:8080/"
        }
      },
      "source": [
        "score = model.evaluate(X_test, y_test)\n",
        "print(\"loss:\", score[0], \"acc:\", score[1])"
      ],
      "execution_count": 17,
      "outputs": [
        {
          "output_type": "stream",
          "text": [
            "313/313 [==============================] - 1s 2ms/step - loss: 0.2351 - accuracy: 0.9149\n",
            "loss: 0.2350650578737259 acc: 0.914900004863739\n"
          ],
          "name": "stdout"
        }
      ]
    },
    {
      "cell_type": "markdown",
      "metadata": {
        "id": "JlK2h2FBeTDL"
      },
      "source": [
        "We've exceed over 90%, which is an improvement over the last notebook. With further model tuning and training, you can get over +95% and in some cases, near 99% accuracy."
      ]
    },
    {
      "cell_type": "markdown",
      "metadata": {
        "id": "u7wqRXTZf-78"
      },
      "source": [
        "## Sign Language MNIST"
      ]
    },
    {
      "cell_type": "markdown",
      "metadata": {
        "id": "yyx1bAegf90R"
      },
      "source": [
        "### Loading and Some Preprocessing\n",
        "\n",
        "You're going to be using a sign language dataset to predict letters in the American sign language alphabet. The dataset can be downloaded through [kaggle](https://www.kaggle.com/datamunge/sign-language-mnist) but if you don't have a Kaggle account, you may download it through [here](https://drive.google.com/drive/folders/1miNKEZ4hbimO9dW87eW4j0vfv_RHQld1?usp=sharing).\n",
        "\n",
        "You're going to have to find a way to read in your data. Locally isn't much of an issue, however reading your data through Colab or Kaggle could be problematic. I've followed [this tutorial](https://towardsdatascience.com/google-colab-import-and-export-datasets-eccf801e2971) on getting data onto Colab and have muted the cells below, but please ignore them and look elsewhere to upload your data if you're not using Colab.\n",
        "\n",
        "### Problem 0: Load the data"
      ]
    },
    {
      "cell_type": "code",
      "metadata": {
        "id": "qKsEuxOKz-AA"
      },
      "source": [
        "from google.colab import drive\n",
        "drive.mount(\"/content/gdrive\")"
      ],
      "execution_count": null,
      "outputs": []
    },
    {
      "cell_type": "code",
      "metadata": {
        "id": "jQ5NTkIz1Wtb"
      },
      "source": [
        "import pandas as pd\n",
        "alphabet = ['a', 'b', 'c', 'd', 'e', 'f', 'g', 'h', 'i', 'j', 'k', 'l', 'm', \n",
        "            'n', 'o', 'p', 'q', 'r', 's', 't', 'u', 'v', 'w', 'x', 'y', 'z']\n",
        "X_train_full = pd.read_csv('/content/gdrive/My Drive/archive/sign_mnist_train/sign_mnist_train.csv') #TODO: Change your path here\n",
        "X_test_full = pd.read_csv('/content/gdrive/My Drive/archive/sign_mnist_train/sign_mnist_train.csv') #TODO: Chainge your path here\n",
        "X_train_full.head()"
      ],
      "execution_count": null,
      "outputs": []
    },
    {
      "cell_type": "markdown",
      "metadata": {
        "id": "oG8Ha0uH45tY"
      },
      "source": [
        "Our dataset containts 785 columns, 784 for pixels and one column for labels (alphabet). Let's extract our labels and drop the label column."
      ]
    },
    {
      "cell_type": "code",
      "metadata": {
        "id": "aNogJfb71_nD"
      },
      "source": [
        "y_train_full = X_train_full['label']\n",
        "y_test_full = X_test_full['label']\n",
        "X_train_full.drop(labels=['label'], axis=1, inplace=True)\n",
        "X_test_full.drop(labels=['label'], axis=1, inplace=True)"
      ],
      "execution_count": null,
      "outputs": []
    },
    {
      "cell_type": "markdown",
      "metadata": {
        "id": "qEGGxlUp-OO7"
      },
      "source": [
        "We'll now use sklearn to shuffle and break our data into train/val. We previously didn't need to do this since our data came shuffled but in this case, it isn't. We'll also convert our pandas DataFrame to our more familiary numpy array. While training DataFrames are possible in Tensorflow, for consistency and flexibility, we'll stick with numpy arrays."
      ]
    },
    {
      "cell_type": "code",
      "metadata": {
        "id": "nuOrOrwl-HcY"
      },
      "source": [
        "from sklearn.model_selection import train_test_split\n",
        "X_train, X_valid, y_train, y_valid = train_test_split(X_train_full, y_train_full, test_size=0.25, random_state=42)\n",
        "# Feel free to change test size\n",
        "\n",
        "\n",
        "# Converting to numpy arrays\n",
        "def pandas_to_array(X, shape):\n",
        "  \"\"\"Convert a pandas array into numpy. Shape is in the form of a tuple\"\"\"\n",
        "  return X.to_numpy().reshape(len(X), *shape)\n",
        "\n",
        "shape = (28, 28)\n",
        "X_train = pandas_to_array(X_train, (shape))\n",
        "X_valid = pandas_to_array(X_valid, (shape))\n",
        "y_train = y_train.to_numpy()\n",
        "y_valid = y_valid.to_numpy()\n",
        "\n",
        "# Also converting our test data\n",
        "X_test = pandas_to_array(X_test_full, shape)\n",
        "y_test = y_test_full.to_numpy()"
      ],
      "execution_count": null,
      "outputs": []
    },
    {
      "cell_type": "markdown",
      "metadata": {
        "id": "fsTs6ZkyMC8_"
      },
      "source": [
        "Let's plot this to see our data. For reference, [here's a link to a sign language alphabet](https://www.startasl.com/wp-content/uploads/asl-alphabet_wallpaper_1920x1200.png)."
      ]
    },
    {
      "cell_type": "code",
      "metadata": {
        "id": "1M8oy5Hz5VJA"
      },
      "source": [
        "# Rerun to get different images\n",
        "def plotImage(image):\n",
        "    \"\"\"A 28x28 array that represents an image.\"\"\"\n",
        "    plt.figure(figsize=(6, 6))\n",
        "    plt.imshow(image, cmap=\"gray\")\n",
        "    plt.axis(False)\n",
        "    plt.show()\n",
        "sample_image = np.random.randint(0, len(X_train))\n",
        "print(\"The expected letter is:\", alphabet[y_train[sample_image]])\n",
        "plotImage(X_train[sample_image])"
      ],
      "execution_count": null,
      "outputs": []
    },
    {
      "cell_type": "markdown",
      "metadata": {
        "id": "v7RXCBk6MgE8"
      },
      "source": [
        "A note about ASL: two of it's letters, *j* and *z*, are movements. As such, these letters are not represented in our dataset. As proof, finding all labels in `y_train`:"
      ]
    },
    {
      "cell_type": "code",
      "metadata": {
        "id": "CQZb60ot7GQs"
      },
      "source": [
        "set(y_train)"
      ],
      "execution_count": null,
      "outputs": []
    },
    {
      "cell_type": "markdown",
      "metadata": {
        "id": "LVw3jdC5NUXw"
      },
      "source": [
        "The values 9 and 25 are missing from this set, which are both *j* and *z* respectively."
      ]
    },
    {
      "cell_type": "code",
      "metadata": {
        "id": "DaKlaPIr6mLs"
      },
      "source": [
        "print(alphabet[9])\n",
        "print(alphabet[25])"
      ],
      "execution_count": null,
      "outputs": []
    },
    {
      "cell_type": "markdown",
      "metadata": {
        "id": "G3FUhiTXOWig"
      },
      "source": [
        "### Problem 1: Finish preprocessing\n",
        "\n",
        "Finish scaling the data and reshaping it so that it is appropriate for a CNN."
      ]
    },
    {
      "cell_type": "code",
      "metadata": {
        "id": "QBgMW6QkNwjX"
      },
      "source": [
        "# TODO: Scale data"
      ],
      "execution_count": null,
      "outputs": []
    },
    {
      "cell_type": "code",
      "metadata": {
        "id": "bGxkRwqjPf98"
      },
      "source": [
        "# TODO: Reshape data"
      ],
      "execution_count": null,
      "outputs": []
    },
    {
      "cell_type": "markdown",
      "metadata": {
        "id": "QR11XF4GPj1y"
      },
      "source": [
        "### Problem 2: Create a CNN model\n",
        "Create, compile, and train a CNN model"
      ]
    },
    {
      "cell_type": "code",
      "metadata": {
        "id": "Eca4Jg5fPmWh"
      },
      "source": [
        "# TODO: Create CNN, several cells added below in case needed"
      ],
      "execution_count": null,
      "outputs": []
    },
    {
      "cell_type": "code",
      "metadata": {
        "id": "MBRum4zVR3jI"
      },
      "source": [
        ""
      ],
      "execution_count": null,
      "outputs": []
    },
    {
      "cell_type": "code",
      "metadata": {
        "id": "ChDgwUcHR3qB"
      },
      "source": [
        ""
      ],
      "execution_count": null,
      "outputs": []
    },
    {
      "cell_type": "code",
      "metadata": {
        "id": "PqtTT1j8R3xT"
      },
      "source": [
        ""
      ],
      "execution_count": null,
      "outputs": []
    },
    {
      "cell_type": "code",
      "metadata": {
        "id": "1zsBRmL6R4fx"
      },
      "source": [
        ""
      ],
      "execution_count": null,
      "outputs": []
    },
    {
      "cell_type": "markdown",
      "metadata": {
        "id": "SXGR_kvhR5IZ"
      },
      "source": [
        "### Problem 3: Analyze Error\n",
        "Produce a confusion matrix and report the most misrepresented label that your model perdicted. Could you give a hypothesis for why this label was so badly predicted?"
      ]
    },
    {
      "cell_type": "code",
      "metadata": {
        "id": "-a2LPHeWS21z"
      },
      "source": [
        "# TODO: Create confusion matrix\n",
        "# Hint: If you're planning on making the colorplot, make labels=alphabet in \n",
        "# plt.xticks and plt.yticks. You may need to take out j and z"
      ],
      "execution_count": null,
      "outputs": []
    },
    {
      "cell_type": "markdown",
      "metadata": {
        "id": "u31t1XH_TrZe"
      },
      "source": [
        "TODO: Double-click here and write solution here"
      ]
    },
    {
      "cell_type": "markdown",
      "metadata": {
        "id": "UuFIxFAlatjD"
      },
      "source": [
        "### Problem 4: Score your data\n",
        "Score your data using X_test. Are there signs of overfitting?"
      ]
    },
    {
      "cell_type": "code",
      "metadata": {
        "id": "gjaSVu0acOGS"
      },
      "source": [
        "# TODO: Score X_test\n"
      ],
      "execution_count": null,
      "outputs": []
    },
    {
      "cell_type": "markdown",
      "metadata": {
        "id": "4-aVFkR4ix8y"
      },
      "source": [
        "TODO: Double-click and write solutions here"
      ]
    },
    {
      "cell_type": "markdown",
      "metadata": {
        "id": "A7MDh8bmWou6"
      },
      "source": [
        "### Bonus - Problem 5: Predict Your Own Letter\n",
        "\n",
        "Now that you have a model, let's see if it can predict a letter you give it. Take a picture of you doing any letter (besides *j* and *z*) on a semi-light background (look at examples through the sign language dataset to get close to the format of how their image is taken) and convert it into a *png* file. Find the path of the image and input it into the function below. This function will convert an image into the MNIST format.\n",
        "\n",
        "You may need to play around with image paths if on something like Colab. Follow the same steps as loading the sign language dataset to get a path that can be routed to your image.\n",
        "\n"
      ]
    },
    {
      "cell_type": "code",
      "metadata": {
        "id": "CMkGPemuXIWL"
      },
      "source": [
        "# Credits to: https://stackoverflow.com/questions/35842274/convert-own-image-to-mnists-image\n",
        "# Function to convert a png location to a pixel-MNIST style image.\n",
        "from PIL import Image, ImageFilter #pip install if needed\n",
        "\n",
        "def imageprepare(argv):\n",
        "    \"\"\"\n",
        "    This function returns the pixel values.\n",
        "    The imput is a png file location.\n",
        "    \"\"\"\n",
        "    im = Image.open(argv).convert('L')\n",
        "    width = float(im.size[0])\n",
        "    height = float(im.size[1])\n",
        "    newImage = Image.new('L', (28, 28), (255))  # creates white canvas of 28x28 pixels\n",
        "\n",
        "    if width > height:  # check which dimension is bigger\n",
        "        # Width is bigger. Width becomes 20 pixels.\n",
        "        nheight = int(round((20.0 / width * height), 0))  # resize height according to ratio width\n",
        "        if (nheight == 0):  # rare case but minimum is 1 pixel\n",
        "            nheight = 1\n",
        "            # resize and sharpen\n",
        "        img = im.resize((20, nheight), Image.ANTIALIAS).filter(ImageFilter.SHARPEN)\n",
        "        wtop = int(round(((28 - nheight) / 2), 0))  # calculate horizontal position\n",
        "        newImage.paste(img, (4, wtop))  # paste resized image on white canvas\n",
        "    else:\n",
        "        # Height is bigger. Heigth becomes 20 pixels.\n",
        "        nwidth = int(round((20.0 / height * width), 0))  # resize width according to ratio height\n",
        "        if (nwidth == 0):  # rare case but minimum is 1 pixel\n",
        "            nwidth = 1\n",
        "            # resize and sharpen\n",
        "        img = im.resize((nwidth, 20), Image.ANTIALIAS).filter(ImageFilter.SHARPEN)\n",
        "        wleft = int(round(((28 - nwidth) / 2), 0))  # caculate vertical pozition\n",
        "        newImage.paste(img, (wleft, 4))  # paste resized image on white canvas\n",
        "\n",
        "    # newImage.save(\"sample.png\n",
        "\n",
        "    tv = list(newImage.getdata())  # get pixel values\n",
        "\n",
        "    # normalize pixels to 0 and 1. 0 is pure white, 1 is pure black.\n",
        "    tva = [(255 - x) * 1.0 / 255.0 for x in tv]\n",
        "    print(tva)\n",
        "    return np.array(tva).reshape(28, 28, 1)\n",
        "\n",
        "\n",
        "\n",
        "your_image = imageprepare('') # TODO: file path here\n",
        "print(len(your_image.shape))"
      ],
      "execution_count": null,
      "outputs": []
    },
    {
      "cell_type": "code",
      "metadata": {
        "id": "jH_atzd7akbT"
      },
      "source": [
        "# Predict with your model your image\n",
        "# model.predict(your_image) # Change model to whatever you named your model to."
      ],
      "execution_count": null,
      "outputs": []
    },
    {
      "cell_type": "markdown",
      "metadata": {
        "id": "-21b7524boLa"
      },
      "source": [
        "Did your model predict correctly? If not, why do you think so?"
      ]
    },
    {
      "cell_type": "markdown",
      "metadata": {
        "id": "5GiUNnUWcIhc"
      },
      "source": [
        "TODO: Double click to write your response here"
      ]
    },
    {
      "cell_type": "markdown",
      "metadata": {
        "id": "EfHlX6wwcxLr"
      },
      "source": [
        "## Submission\n",
        "\n",
        "Once you're ready to submit, turn in a copy of this Jupyter notebook and a PDF copy of it. For the PDF, please label the pages of problems 1, 2, 3, 4, and (optionally) 5.\n",
        "\n",
        "Locally, there should a \"Download as\" under \"File\" and PDF should be an option. \n",
        "\n",
        "If you're doing this assignment using Colab, Colab does not have this PDF option. I recommend downloading and openning this notebook using IPython/Jupyter Notebook locally and doing the instruction above (with the automatic saved inputs). If you're resistant to this option, there are other options. If you're on a Mac, a hack you can do is to print this page and before you print, save the file as a PDF instead of printing. \n",
        "\n",
        "An alternative is to save your Colab notebook as an HTML file and convert that into a PDF (using a third party website like https://html2pdf.com/ or a browser extension like https://chrome.google.com/webstore/detail/web-page-to-pdf-converter/bbfoccanbdeldjaelafmbgonagegdndg). Converting HTMLs into PDFs tends to be easier/more common than ipynb to PDFs. If you need additional help, please feel free to Slack Kevin or Jess for aid!"
      ]
    }
  ]
}