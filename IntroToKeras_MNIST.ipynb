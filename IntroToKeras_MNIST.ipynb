{
  "nbformat": 4,
  "nbformat_minor": 0,
  "metadata": {
    "kernelspec": {
      "display_name": "Python 3",
      "language": "python",
      "name": "python3"
    },
    "language_info": {
      "codemirror_mode": {
        "name": "ipython",
        "version": 3
      },
      "file_extension": ".py",
      "mimetype": "text/x-python",
      "name": "python",
      "nbconvert_exporter": "python",
      "pygments_lexer": "ipython3",
      "version": "3.7.7"
    },
    "colab": {
      "name": "IntroToKeras-MNIST.ipynb",
      "provenance": [],
      "include_colab_link": true
    },
    "accelerator": "GPU"
  },
  "cells": [
    {
      "cell_type": "markdown",
      "metadata": {
        "id": "view-in-github",
        "colab_type": "text"
      },
      "source": [
        "<a href=\"https://colab.research.google.com/github/escofresco/makeschool_ds22_keras_for_mnist/blob/main/IntroToKeras_MNIST.ipynb\" target=\"_parent\"><img src=\"https://colab.research.google.com/assets/colab-badge.svg\" alt=\"Open In Colab\"/></a>"
      ]
    },
    {
      "cell_type": "markdown",
      "metadata": {
        "id": "CD9Dc4IUpfP2"
      },
      "source": [
        "# Introduction to Keras"
      ]
    },
    {
      "cell_type": "markdown",
      "metadata": {
        "id": "K_xAxRkSpfQB"
      },
      "source": [
        "In this notebook, we'll explore the Keras and use it to create a classifier to predict hand written digits."
      ]
    },
    {
      "cell_type": "markdown",
      "metadata": {
        "id": "7vkmXwbGpfQJ"
      },
      "source": [
        "## Introduction and Background"
      ]
    },
    {
      "cell_type": "markdown",
      "metadata": {
        "id": "pm7PsaTdpfQR"
      },
      "source": [
        "### What is Keras? Why use it?"
      ]
    },
    {
      "cell_type": "markdown",
      "metadata": {
        "id": "JBzh8RuOpfQX"
      },
      "source": [
        "Keras is a high-level deep learning API that serves to build, train, evaluate, and as a toolbox to neural networks. This means that Keras is used to do deep learning by being a wrapper to more complex and low-level deep learning frameworks like TensorFlow, CNTK, and Theano. The same functions for Keras wrapped CNTK are the same for Keras wrapped Theano and TensorFlow. TensorFlow (TF), the current most popular deep learning library and open sourced by Google, has recently integrated it's framework with Keras, so now Keras comes in with TF. \n",
        "\n",
        "Well, that's all find and dandy, but why should we use Keras? What's wrong with using TF? And why is TF integrating Keras? What does this all mean? TF, as well as other deep learning libraries, can be a bit more complicated to use (for the exception of PyTorch, more on that in a second). As you may have already experienced, deep learning can be quite complex, having a *deep* understanding (pun intended) of everything that's going on is sometimes needed, making TF (pre-Keras integration) unfriendly. With the latest version of Keras, TF is now super easy to use. Since TF is the most common library, there are tons of add ons and pipelines for mobile and websites already made. Therefore, Keras/TF is ideal for the more common programmer.\n",
        "\n",
        "Are there other options? The other up-and-coming library is PyTorch, created by Facebook. PyTorch is more common in research circles (whereas Keras/TF is more common in industry) however the interface at a high level tends to be the same. Arguably, transitioning from Keras to PyTorch should be simple.\n",
        "\n",
        "So am I going to be using Keras or TF in this class? Both! In our case, they're the same thing. Again, Keras has been integrated by default to TF, Keras is a wrapper to TF. If you're going to be doing high level work (which will be 95% of the time), you're going to be calling and using Keras. If you're going into the nitty gritty low-level work of Neural Networks (i.e. creating your own custom loss function, activation function, or metrics), you're going to be using TF. If someone asks what deep learning framework you used in this class, TensorFlow! But do give a shoutout to Keras if you use `tf.keras` often.\n",
        "\n",
        "So for the rest of this notebook, we'll be using Keras."
      ]
    },
    {
      "cell_type": "markdown",
      "metadata": {
        "id": "DsIYyQpLpfQa"
      },
      "source": [
        "### Training Deep Learning Networks"
      ]
    },
    {
      "cell_type": "markdown",
      "metadata": {
        "id": "_BHup7bIpfQd"
      },
      "source": [
        "Neural nets can take a while to train; you may have heard this prior in the mystery of deep learning. So can your computer train neural networks? It depends. If you're doing **deep** deep learning, using +30 layers or working with an enormous amount of data, training could take forever. One would need a GPU on their computer. More than often, we use some sort of cloud computing, why Colab would be ideal. For more intensive trainings (since Colab shuts down after +12 hours), usually a cloud provider like AWS (Amazon) or GCP (Google) would be used.\n",
        "\n",
        "Keras/TF works with and without a GPU, but by default is set to without a GPU. In this notebook, we won't be working with intense computation, so a GPU isn't necessarily. However that doesn't mean that training can't take a while. If you're working on Colab, changing the computation setting from CPU to GPU may speed things up. Your decision on what to do.\n",
        "\n",
        "If you have a GPU on your computer, there are guides towards setting up TF with a GPU with certain requirements. Slack me (Kevin Marroquin) for more details since this installation can get tricky."
      ]
    },
    {
      "cell_type": "markdown",
      "metadata": {
        "id": "pwh4Gz29pfQg"
      },
      "source": [
        "## Running an example: MNIST"
      ]
    },
    {
      "cell_type": "markdown",
      "metadata": {
        "id": "keZ_Rh0ppfQn"
      },
      "source": [
        "### Installing Tensorflow and Loading Imports\n",
        "\n",
        "First, we're going to install Keras, in case you're using this on your local computer. However, this should work under Colab."
      ]
    },
    {
      "cell_type": "code",
      "metadata": {
        "id": "NmcCSfQPpfQp"
      },
      "source": [
        "#See installation details here: https://www.tensorflow.org/install/\n",
        "!pip install tensorflow-gpu"
      ],
      "execution_count": null,
      "outputs": []
    },
    {
      "cell_type": "code",
      "metadata": {
        "ExecuteTime": {
          "end_time": "2020-11-05T10:24:47.193454Z",
          "start_time": "2020-11-05T10:24:47.145457Z"
        },
        "id": "qts6RxbwpfQ2"
      },
      "source": [
        "#Importing Keras and other imports\n",
        "from tensorflow import keras\n",
        "import numpy as np\n",
        "import pandas as pd\n",
        "import matplotlib.pyplot as plt\n",
        "%matplotlib inline"
      ],
      "execution_count": 3,
      "outputs": []
    },
    {
      "cell_type": "markdown",
      "metadata": {
        "id": "6C7lUeAipfRD"
      },
      "source": [
        "We're going to want reproducible results, so pre-defining random seeds is necessary."
      ]
    },
    {
      "cell_type": "code",
      "metadata": {
        "id": "yoKx3MJepfRG"
      },
      "source": [
        "from numpy.random import seed\n",
        "seed(42)\n",
        "from tensorflow.random import set_seed\n",
        "set_seed(42)\n",
        "#If the two lines above give you error, mute them and run the following:\n",
        "# import tensorflow\n",
        "# tensorflow.random.set_seed(42)"
      ],
      "execution_count": 4,
      "outputs": []
    },
    {
      "cell_type": "markdown",
      "metadata": {
        "id": "Nj-oP-jBrT8v"
      },
      "source": [
        "Normally one wouldn't want to have a pre-defined random seed (in fact you would want the exact opposite), but in our case, since we want to be able to produce reprodicible results for grading purposes, it's needed."
      ]
    },
    {
      "cell_type": "markdown",
      "metadata": {
        "id": "yP-A1vLUpfRQ"
      },
      "source": [
        "### Loading, Analyzing, and Preprocessing Data"
      ]
    },
    {
      "cell_type": "markdown",
      "metadata": {
        "id": "ljYxYodspfRR"
      },
      "source": [
        "For this example, we will be using the [MNIST dataset](https://www.tensorflow.org/datasets/catalog/mnist). MNIST is a dataset of handwritten digits created to classify what type of digit, from zero to nine, is shown. MNIST is modified and, to some extent, normalized such that they're all the same size. Let's explore and see what kind of information MNIST have. If you've seen MNIST, this will probably be stuff you've seen before, so feel free to skip to the neural network part."
      ]
    },
    {
      "cell_type": "code",
      "metadata": {
        "ExecuteTime": {
          "end_time": "2020-11-05T08:18:06.974049Z",
          "start_time": "2020-11-05T08:18:06.368984Z"
        },
        "id": "HTqQEvaPpfRV",
        "colab": {
          "base_uri": "https://localhost:8080/"
        },
        "outputId": "d998986d-9128-4480-bfe3-a472b578f723"
      },
      "source": [
        "#Loading datasets\n",
        "mnist = keras.datasets.mnist\n",
        "(X_train_full, y_train_full), (X_test, y_test) = mnist.load_data()"
      ],
      "execution_count": 4,
      "outputs": [
        {
          "output_type": "stream",
          "text": [
            "Downloading data from https://storage.googleapis.com/tensorflow/tf-keras-datasets/mnist.npz\n",
            "11493376/11490434 [==============================] - 0s 0us/step\n"
          ],
          "name": "stdout"
        }
      ]
    },
    {
      "cell_type": "code",
      "metadata": {
        "ExecuteTime": {
          "end_time": "2020-11-05T08:19:47.487213Z",
          "start_time": "2020-11-05T08:19:47.478418Z"
        },
        "id": "0dDGrf_1pfRi",
        "colab": {
          "base_uri": "https://localhost:8080/"
        },
        "outputId": "8b60f4b8-3362-4f8d-d3a4-16b211bea215"
      },
      "source": [
        "#Seeing shapes of data\n",
        "print(\"X_train:\", X_train_full.shape)\n",
        "print(\"y_train:\", y_train_full.shape)\n",
        "print(\"X_test:\", X_test.shape)\n",
        "print(\"y_test:\", y_test.shape)"
      ],
      "execution_count": 6,
      "outputs": [
        {
          "output_type": "stream",
          "text": [
            "X_train: (60000, 28, 28)\n",
            "y_train: (60000,)\n",
            "X_test: (10000, 28, 28)\n",
            "y_test: (10000,)\n"
          ],
          "name": "stdout"
        }
      ]
    },
    {
      "cell_type": "markdown",
      "metadata": {
        "id": "NUH_dvUCpfRp"
      },
      "source": [
        "So we see that we have 60000 training datapoints and 10000 test. How does one of these datapoints look like?"
      ]
    },
    {
      "cell_type": "code",
      "metadata": {
        "ExecuteTime": {
          "end_time": "2020-11-05T08:21:22.410866Z",
          "start_time": "2020-11-05T08:21:22.403207Z"
        },
        "id": "pOb2KNTApfRq"
      },
      "source": [
        "X_train_full"
      ],
      "execution_count": null,
      "outputs": []
    },
    {
      "cell_type": "code",
      "metadata": {
        "ExecuteTime": {
          "end_time": "2020-11-05T09:02:24.980655Z",
          "start_time": "2020-11-05T09:02:24.971846Z"
        },
        "id": "k5_ccoedpfRx",
        "colab": {
          "base_uri": "https://localhost:8080/"
        },
        "outputId": "cf41e546-be9f-4b71-ddfe-f66284fd49aa"
      },
      "source": [
        "y_test[0]"
      ],
      "execution_count": null,
      "outputs": [
        {
          "output_type": "execute_result",
          "data": {
            "text/plain": [
              "7"
            ]
          },
          "metadata": {
            "tags": []
          },
          "execution_count": 61
        }
      ]
    },
    {
      "cell_type": "code",
      "metadata": {
        "ExecuteTime": {
          "end_time": "2020-11-05T08:21:11.392618Z",
          "start_time": "2020-11-05T08:21:11.377924Z"
        },
        "id": "XAlok2nypfR6",
        "colab": {
          "base_uri": "https://localhost:8080/"
        },
        "outputId": "03f2a735-e306-4e43-fc8d-9235caac45a6"
      },
      "source": [
        "X_train_full[0].shape"
      ],
      "execution_count": null,
      "outputs": [
        {
          "output_type": "execute_result",
          "data": {
            "text/plain": [
              "(28, 28)"
            ]
          },
          "metadata": {
            "tags": []
          },
          "execution_count": 62
        }
      ]
    },
    {
      "cell_type": "markdown",
      "metadata": {
        "id": "xvxxZEhGpfSC"
      },
      "source": [
        "So an image is represented as a 28x28 image in pixels and it. It's a picture in black and white, representing pixel intensity from 0 to 255, where a 255 representing black and 0 representing white. Let's plot this to see the data."
      ]
    },
    {
      "cell_type": "code",
      "metadata": {
        "ExecuteTime": {
          "end_time": "2020-11-05T09:06:21.409749Z",
          "start_time": "2020-11-05T09:06:21.404006Z"
        },
        "id": "3lYMxiXhpfSK",
        "colab": {
          "base_uri": "https://localhost:8080/"
        },
        "outputId": "a306fae1-1d0e-452a-b1bc-d491ed4a9b44"
      },
      "source": [
        "#Looking at test data\n",
        "y_train_full"
      ],
      "execution_count": null,
      "outputs": [
        {
          "output_type": "execute_result",
          "data": {
            "text/plain": [
              "array([5, 0, 4, ..., 5, 6, 8], dtype=uint8)"
            ]
          },
          "metadata": {
            "tags": []
          },
          "execution_count": 63
        }
      ]
    },
    {
      "cell_type": "code",
      "metadata": {
        "ExecuteTime": {
          "end_time": "2020-11-05T09:06:59.000370Z",
          "start_time": "2020-11-05T09:06:58.904785Z"
        },
        "id": "co2Xx8_2pfSU",
        "colab": {
          "base_uri": "https://localhost:8080/",
          "height": 375
        },
        "outputId": "c47ca196-0cb6-46ab-ebde-08905490944b"
      },
      "source": [
        "#Rerun to get different numbers\n",
        "def plotImage(image):\n",
        "    \"\"\"A 28x28 array that represents an image.\"\"\"\n",
        "    plt.figure(figsize=(6, 6))\n",
        "    plt.imshow(image, cmap=\"gray\")\n",
        "    plt.axis(False)\n",
        "    plt.show()\n",
        "sample_image = np.random.randint(0, len(X_train_full))\n",
        "print(\"The expected value is:\", y_train_full[sample_image])\n",
        "plotImage(X_train_full[sample_image])"
      ],
      "execution_count": 7,
      "outputs": [
        {
          "output_type": "stream",
          "text": [
            "The expected value is: 1\n"
          ],
          "name": "stdout"
        },
        {
          "output_type": "display_data",
          "data": {
            "image/png": "[encoded data removed]",
            "text/plain": [
              "<Figure size 432x432 with 1 Axes>"
            ]
          },
          "metadata": {
            "tags": [],
            "needs_background": "light"
          }
        }
      ]
    },
    {
      "cell_type": "markdown",
      "metadata": {
        "id": "UO0SFGLBpfSa"
      },
      "source": [
        "Before using this data, we must preprocess it to our likings. Something that should be done before plugging our data into our neural net is to normalize and shift it for better results ([see more details here](https://stackoverflow.com/questions/4674623/why-do-we-have-to-normalize-the-input-for-an-artificial-neural-network)). If you want some quick intuition about our activation functions, or a sigmoid function, most of it's \"function\" (the part that's interesting and not a flat line) is near `x` = 0 than at `x` = 255, `X_train_full`'s max point. Normalizing and shifting our data brings it to the action of the function (seriously, no pun intended on this one) where the model may perform better."
      ]
    },
    {
      "cell_type": "code",
      "metadata": {
        "ExecuteTime": {
          "end_time": "2020-11-05T08:49:46.967113Z",
          "start_time": "2020-11-05T08:49:46.748334Z"
        },
        "id": "__7J22nPpfSb",
        "colab": {
          "base_uri": "https://localhost:8080/",
          "height": 281
        },
        "outputId": "f3d75449-0727-4ed8-c4b3-cbcfd307ab35"
      },
      "source": [
        "#Example of Sigmoid function\n",
        "def sigmoid(x):\n",
        "    return 1/(np.exp(-x) + 1)\n",
        "plt.plot(np.arange(-15, 15), sigmoid(np.arange(-15, 15)))\n",
        "plt.title(\"Sigmoid Function\")\n",
        "plt.grid()\n",
        "plt.show()"
      ],
      "execution_count": 7,
      "outputs": [
        {
          "output_type": "display_data",
          "data": {
            "image/png": "[encoded data removed]",
            "text/plain": [
              "<Figure size 432x288 with 1 Axes>"
            ]
          },
          "metadata": {
            "tags": [],
            "needs_background": "light"
          }
        }
      ]
    },
    {
      "cell_type": "markdown",
      "metadata": {
        "id": "JPj2cGySpfSk"
      },
      "source": [
        "Let's convert this data to 0 and 1, where 1 is the max pixel intensity (255) and zero is still zero. Anything in between is the scaled value of the original data. In the process, we will create a validation pair (of X and y) to test our model after training and testing."
      ]
    },
    {
      "cell_type": "code",
      "metadata": {
        "ExecuteTime": {
          "end_time": "2020-11-05T09:02:05.560541Z",
          "start_time": "2020-11-05T09:02:04.899064Z"
        },
        "id": "mlnrzkO6pfSl"
      },
      "source": [
        "X_valid, X_train = X_train_full[:5000] / 255, X_train_full[5000:] / 255\n",
        "y_valid, y_train = y_train_full[:5000], y_train_full[5000:]\n",
        "X_test = X_test / 255\n",
        "#No need to do y_test since it's not being fed into the data.\n",
        "#Also, data is already shuffled, so no need to do so here"
      ],
      "execution_count": 130,
      "outputs": []
    },
    {
      "cell_type": "markdown",
      "metadata": {
        "ExecuteTime": {
          "end_time": "2020-11-05T09:09:23.480303Z",
          "start_time": "2020-11-05T09:09:23.474355Z"
        },
        "id": "TVy8woTjpfSq"
      },
      "source": [
        "Lastly, inputting a 2D datapoint into a neural network is a bit of work to implement and architect. To avoid harder work, we will transform our data into a 1D array. We will do this in the next section."
      ]
    },
    {
      "cell_type": "markdown",
      "metadata": {
        "id": "EpXfBxChpfSr"
      },
      "source": [
        "### Creating A Simple Neural Network"
      ]
    },
    {
      "cell_type": "markdown",
      "metadata": {
        "id": "umiVwSNUpfSs"
      },
      "source": [
        "Let's build a basic 2-layered neural network."
      ]
    },
    {
      "cell_type": "code",
      "metadata": {
        "ExecuteTime": {
          "end_time": "2020-11-05T09:43:56.369221Z",
          "start_time": "2020-11-05T09:43:56.319699Z"
        },
        "id": "lfO8CDF4pfSt"
      },
      "source": [
        "from numpy.random import seed\n",
        "seed(42)\n",
        "from tensorflow.random import set_seed\n",
        "set_seed(42)\n",
        "#If the two lines above give you error, mute them and run the following:\n",
        "# import tensorflow\n",
        "# tensorflow.random.set_seed(42)\n",
        "\n",
        "model = keras.models.Sequential()\n",
        "\n",
        "model.add(keras.layers.Flatten(input_shape=[28, 28]))\n",
        "model.add(keras.layers.Dropout(.2))\n",
        "model.add(keras.layers.Dense(4096, activation=\"relu\"))\n",
        "model.add(keras.layers.Dropout(.2))\n",
        "model.add(keras.layers.Dense(128, activation=\"relu\"))\n",
        "model.add(keras.layers.Dropout(.2))\n",
        "model.add(keras.layers.Dense(10, activation=\"softmax\"))"
      ],
      "execution_count": 153,
      "outputs": []
    },
    {
      "cell_type": "markdown",
      "metadata": {
        "id": "QzoCOt6DpfSz"
      },
      "source": [
        "Going through the above code line by line:\n",
        "- The first line creates the simplest model composed of a single stack of layers connected sequentially. Needed in most cases to initialize the model.\n",
        "- The next layer flattens the data from 2D 28x28 to 1D 784. This layer is known as the input layer.\n",
        "- The next two (Dense) layers are hidden layers with 300 and 100 neurons respectively. They're both using sigmoid for their activation functions and contain a weight matrix that changes during training.\n",
        "- The last dense layer is the output layer. Choosing 10 neurons is a reflection of our output. We use a sigmoid function in order to calculate the probability.\n",
        "\n",
        "This is, again, a 2-layered neural network. Let's print out the summary of the model."
      ]
    },
    {
      "cell_type": "code",
      "metadata": {
        "ExecuteTime": {
          "end_time": "2020-11-05T09:44:51.642758Z",
          "start_time": "2020-11-05T09:44:51.633595Z"
        },
        "id": "vT-idNmwpfS0",
        "colab": {
          "base_uri": "https://localhost:8080/"
        },
        "outputId": "435894aa-1f40-4f79-c383-9b7af0ce636f"
      },
      "source": [
        "#Inputting the first hidden layer, should be in the shape of 0-1\n",
        "weight = model.layers[2].get_weights()\n",
        "weight[0]"
      ],
      "execution_count": 145,
      "outputs": [
        {
          "output_type": "execute_result",
          "data": {
            "text/plain": [
              "array([[ 0.01895991, -0.00679686, -0.01695004, ...,  0.03536855,\n",
              "        -0.04974265, -0.04775721],\n",
              "       [ 0.04025944,  0.03084977, -0.01692577, ..., -0.02724909,\n",
              "        -0.01099288, -0.01281999],\n",
              "       [ 0.02623434, -0.04939374,  0.02155204, ..., -0.02026885,\n",
              "        -0.02062956,  0.02941548],\n",
              "       ...,\n",
              "       [ 0.01466681, -0.05261005,  0.0271231 , ..., -0.05288952,\n",
              "        -0.0200069 ,  0.0479677 ],\n",
              "       [-0.01468276,  0.00146703,  0.0460792 , ..., -0.02613947,\n",
              "         0.0501373 , -0.05188717],\n",
              "       [-0.01490007, -0.02766856, -0.00323369, ...,  0.03697735,\n",
              "         0.04797454, -0.01220382]], dtype=float32)"
            ]
          },
          "metadata": {
            "tags": []
          },
          "execution_count": 145
        }
      ]
    },
    {
      "cell_type": "markdown",
      "metadata": {
        "id": "etvCkQlbpfS7"
      },
      "source": [
        "We mentioned weights, that each layer contains it's own weights. As a reminder, a weight is needed to put emphasis on a feature in order to help a model model.\n",
        "\n",
        "We'll now be compiling the model"
      ]
    },
    {
      "cell_type": "code",
      "metadata": {
        "ExecuteTime": {
          "end_time": "2020-11-05T10:08:08.021494Z",
          "start_time": "2020-11-05T10:08:07.961694Z"
        },
        "scrolled": true,
        "id": "cPwpVg9ypfS-"
      },
      "source": [
        "model.compile(loss=\"sparse_categorical_crossentropy\", #Loss function\n",
        "              optimizer='adam', #keras.optimizers.Adadelta(), \n",
        "              metrics=[\"accuracy\"])"
      ],
      "execution_count": 154,
      "outputs": []
    },
    {
      "cell_type": "markdown",
      "metadata": {
        "id": "lB1mJAWdpfTE"
      },
      "source": [
        "Let's train and evaluate the model."
      ]
    },
    {
      "cell_type": "code",
      "metadata": {
        "ExecuteTime": {
          "end_time": "2020-11-05T10:06:19.243856Z",
          "start_time": "2020-11-05T10:06:19.238042Z"
        },
        "id": "HS5ic6yFpfTS",
        "colab": {
          "base_uri": "https://localhost:8080/"
        },
        "outputId": "c2fe9749-f837-4d60-a2a9-cde36ee067e1"
      },
      "source": [
        "X_train.shape"
      ],
      "execution_count": 147,
      "outputs": [
        {
          "output_type": "execute_result",
          "data": {
            "text/plain": [
              "(55000, 28, 28)"
            ]
          },
          "metadata": {
            "tags": []
          },
          "execution_count": 147
        }
      ]
    },
    {
      "cell_type": "code",
      "metadata": {
        "ExecuteTime": {
          "end_time": "2020-11-05T10:06:23.517784Z",
          "start_time": "2020-11-05T10:06:23.511968Z"
        },
        "id": "Tw2Vu0skpfTY",
        "colab": {
          "base_uri": "https://localhost:8080/"
        },
        "outputId": "fb54349d-3169-47cb-966d-343c829140db"
      },
      "source": [
        "y_train.shape"
      ],
      "execution_count": 148,
      "outputs": [
        {
          "output_type": "execute_result",
          "data": {
            "text/plain": [
              "(55000,)"
            ]
          },
          "metadata": {
            "tags": []
          },
          "execution_count": 148
        }
      ]
    },
    {
      "cell_type": "code",
      "metadata": {
        "ExecuteTime": {
          "end_time": "2020-11-05T10:13:33.811067Z",
          "start_time": "2020-11-05T10:08:10.202691Z"
        },
        "code_folding": [],
        "id": "XiB2NUGQpfTc",
        "colab": {
          "base_uri": "https://localhost:8080/",
          "height": 754
        },
        "outputId": "c5885cf0-952e-49aa-b358-b815a939d8e6"
      },
      "source": [
        "EPOCHS = 128\n",
        "checkpoint_filepath = 'weights.best.hdf5'\n",
        "es = keras.callbacks.EarlyStopping(monitor='val_loss', mode='min', verbose=1, patience=25)\n",
        "mc = keras.callbacks.ModelCheckpoint(checkpoint_filepath, monitor='val_accuracy', \n",
        "                                     mode='max', verbose=1, save_best_only=True)\n",
        "train_datagen = keras.preprocessing.image.ImageDataGenerator(\n",
        "    rotation_range=10,  \n",
        "    zoom_range = 0.1, \n",
        "    shear_range=0.1, # bendiness square to parallelogram\n",
        "    width_shift_range=0.1, \n",
        "    height_shift_range=0.1\n",
        ")\n",
        "\n",
        "\n",
        "history = model.fit_generator(train_datagen.flow(X_train.reshape(-1, 28, 28, 1), y_train),\n",
        "                              epochs=EPOCHS,\n",
        "                              validation_data=(X_valid, y_valid), callbacks=[mc,es])"
      ],
      "execution_count": 164,
      "outputs": [
        {
          "output_type": "stream",
          "text": [
            "Epoch 1/128\n",
            "1714/1719 [============================>.] - ETA: 0s - loss: 0.1031 - accuracy: 0.9736\n",
            "Epoch 00001: val_accuracy improved from -inf to 0.99100, saving model to weights.best.hdf5\n",
            "1719/1719 [==============================] - 15s 9ms/step - loss: 0.1031 - accuracy: 0.9736 - val_loss: 0.0414 - val_accuracy: 0.9910\n",
            "Epoch 2/128\n",
            "1716/1719 [============================>.] - ETA: 0s - loss: 0.1050 - accuracy: 0.9726\n",
            "Epoch 00002: val_accuracy did not improve from 0.99100\n",
            "1719/1719 [==============================] - 15s 9ms/step - loss: 0.1050 - accuracy: 0.9726 - val_loss: 0.0385 - val_accuracy: 0.9898\n",
            "Epoch 3/128\n",
            "1714/1719 [============================>.] - ETA: 0s - loss: 0.1020 - accuracy: 0.9739\n",
            "Epoch 00003: val_accuracy did not improve from 0.99100\n",
            "1719/1719 [==============================] - 15s 9ms/step - loss: 0.1021 - accuracy: 0.9738 - val_loss: 0.0342 - val_accuracy: 0.9908\n",
            "Epoch 4/128\n",
            "1716/1719 [============================>.] - ETA: 0s - loss: 0.1064 - accuracy: 0.9733\n",
            "Epoch 00004: val_accuracy did not improve from 0.99100\n",
            "1719/1719 [==============================] - 15s 9ms/step - loss: 0.1063 - accuracy: 0.9734 - val_loss: 0.0389 - val_accuracy: 0.9908\n",
            "Epoch 5/128\n",
            "1719/1719 [==============================] - ETA: 0s - loss: 0.1048 - accuracy: 0.9741\n",
            "Epoch 00005: val_accuracy improved from 0.99100 to 0.99120, saving model to weights.best.hdf5\n",
            "1719/1719 [==============================] - 16s 9ms/step - loss: 0.1048 - accuracy: 0.9741 - val_loss: 0.0363 - val_accuracy: 0.9912\n",
            "Epoch 6/128\n",
            " 509/1719 [=======>......................] - ETA: 10s - loss: 0.1100 - accuracy: 0.9742"
          ],
          "name": "stdout"
        },
        {
          "output_type": "error",
          "ename": "KeyboardInterrupt",
          "evalue": "ignored",
          "traceback": [
            "\u001b[0;31m---------------------------------------------------------------------------\u001b[0m",
            "\u001b[0;31mKeyboardInterrupt\u001b[0m                         Traceback (most recent call last)",
            "\u001b[0;32m<ipython-input-164-72477893e287>\u001b[0m in \u001b[0;36m<module>\u001b[0;34m()\u001b[0m\n\u001b[1;32m     15\u001b[0m history = model.fit_generator(train_datagen.flow(X_train.reshape(-1, 28, 28, 1), y_train),\n\u001b[1;32m     16\u001b[0m                               \u001b[0mepochs\u001b[0m\u001b[0;34m=\u001b[0m\u001b[0mEPOCHS\u001b[0m\u001b[0;34m,\u001b[0m\u001b[0;34m\u001b[0m\u001b[0;34m\u001b[0m\u001b[0m\n\u001b[0;32m---> 17\u001b[0;31m                               validation_data=(X_valid, y_valid), callbacks=[mc,es])\n\u001b[0m",
            "\u001b[0;32m/usr/local/lib/python3.6/dist-packages/tensorflow/python/util/deprecation.py\u001b[0m in \u001b[0;36mnew_func\u001b[0;34m(*args, **kwargs)\u001b[0m\n\u001b[1;32m    322\u001b[0m               \u001b[0;34m'in a future version'\u001b[0m \u001b[0;32mif\u001b[0m \u001b[0mdate\u001b[0m \u001b[0;32mis\u001b[0m \u001b[0;32mNone\u001b[0m \u001b[0;32melse\u001b[0m \u001b[0;34m(\u001b[0m\u001b[0;34m'after %s'\u001b[0m \u001b[0;34m%\u001b[0m \u001b[0mdate\u001b[0m\u001b[0;34m)\u001b[0m\u001b[0;34m,\u001b[0m\u001b[0;34m\u001b[0m\u001b[0;34m\u001b[0m\u001b[0m\n\u001b[1;32m    323\u001b[0m               instructions)\n\u001b[0;32m--> 324\u001b[0;31m       \u001b[0;32mreturn\u001b[0m \u001b[0mfunc\u001b[0m\u001b[0;34m(\u001b[0m\u001b[0;34m*\u001b[0m\u001b[0margs\u001b[0m\u001b[0;34m,\u001b[0m \u001b[0;34m**\u001b[0m\u001b[0mkwargs\u001b[0m\u001b[0;34m)\u001b[0m\u001b[0;34m\u001b[0m\u001b[0;34m\u001b[0m\u001b[0m\n\u001b[0m\u001b[1;32m    325\u001b[0m     return tf_decorator.make_decorator(\n\u001b[1;32m    326\u001b[0m         \u001b[0mfunc\u001b[0m\u001b[0;34m,\u001b[0m \u001b[0mnew_func\u001b[0m\u001b[0;34m,\u001b[0m \u001b[0;34m'deprecated'\u001b[0m\u001b[0;34m,\u001b[0m\u001b[0;34m\u001b[0m\u001b[0;34m\u001b[0m\u001b[0m\n",
            "\u001b[0;32m/usr/local/lib/python3.6/dist-packages/tensorflow/python/keras/engine/training.py\u001b[0m in \u001b[0;36mfit_generator\u001b[0;34m(self, generator, steps_per_epoch, epochs, verbose, callbacks, validation_data, validation_steps, validation_freq, class_weight, max_queue_size, workers, use_multiprocessing, shuffle, initial_epoch)\u001b[0m\n\u001b[1;32m   1827\u001b[0m         \u001b[0muse_multiprocessing\u001b[0m\u001b[0;34m=\u001b[0m\u001b[0muse_multiprocessing\u001b[0m\u001b[0;34m,\u001b[0m\u001b[0;34m\u001b[0m\u001b[0;34m\u001b[0m\u001b[0m\n\u001b[1;32m   1828\u001b[0m         \u001b[0mshuffle\u001b[0m\u001b[0;34m=\u001b[0m\u001b[0mshuffle\u001b[0m\u001b[0;34m,\u001b[0m\u001b[0;34m\u001b[0m\u001b[0;34m\u001b[0m\u001b[0m\n\u001b[0;32m-> 1829\u001b[0;31m         initial_epoch=initial_epoch)\n\u001b[0m\u001b[1;32m   1830\u001b[0m \u001b[0;34m\u001b[0m\u001b[0m\n\u001b[1;32m   1831\u001b[0m   @deprecation.deprecated(\n",
            "\u001b[0;32m/usr/local/lib/python3.6/dist-packages/tensorflow/python/keras/engine/training.py\u001b[0m in \u001b[0;36m_method_wrapper\u001b[0;34m(self, *args, **kwargs)\u001b[0m\n\u001b[1;32m    106\u001b[0m   \u001b[0;32mdef\u001b[0m \u001b[0m_method_wrapper\u001b[0m\u001b[0;34m(\u001b[0m\u001b[0mself\u001b[0m\u001b[0;34m,\u001b[0m \u001b[0;34m*\u001b[0m\u001b[0margs\u001b[0m\u001b[0;34m,\u001b[0m \u001b[0;34m**\u001b[0m\u001b[0mkwargs\u001b[0m\u001b[0;34m)\u001b[0m\u001b[0;34m:\u001b[0m\u001b[0;34m\u001b[0m\u001b[0;34m\u001b[0m\u001b[0m\n\u001b[1;32m    107\u001b[0m     \u001b[0;32mif\u001b[0m \u001b[0;32mnot\u001b[0m \u001b[0mself\u001b[0m\u001b[0;34m.\u001b[0m\u001b[0m_in_multi_worker_mode\u001b[0m\u001b[0;34m(\u001b[0m\u001b[0;34m)\u001b[0m\u001b[0;34m:\u001b[0m  \u001b[0;31m# pylint: disable=protected-access\u001b[0m\u001b[0;34m\u001b[0m\u001b[0;34m\u001b[0m\u001b[0m\n\u001b[0;32m--> 108\u001b[0;31m       \u001b[0;32mreturn\u001b[0m \u001b[0mmethod\u001b[0m\u001b[0;34m(\u001b[0m\u001b[0mself\u001b[0m\u001b[0;34m,\u001b[0m \u001b[0;34m*\u001b[0m\u001b[0margs\u001b[0m\u001b[0;34m,\u001b[0m \u001b[0;34m**\u001b[0m\u001b[0mkwargs\u001b[0m\u001b[0;34m)\u001b[0m\u001b[0;34m\u001b[0m\u001b[0;34m\u001b[0m\u001b[0m\n\u001b[0m\u001b[1;32m    109\u001b[0m \u001b[0;34m\u001b[0m\u001b[0m\n\u001b[1;32m    110\u001b[0m     \u001b[0;31m# Running inside `run_distribute_coordinator` already.\u001b[0m\u001b[0;34m\u001b[0m\u001b[0;34m\u001b[0m\u001b[0;34m\u001b[0m\u001b[0m\n",
            "\u001b[0;32m/usr/local/lib/python3.6/dist-packages/tensorflow/python/keras/engine/training.py\u001b[0m in \u001b[0;36mfit\u001b[0;34m(self, x, y, batch_size, epochs, verbose, callbacks, validation_split, validation_data, shuffle, class_weight, sample_weight, initial_epoch, steps_per_epoch, validation_steps, validation_batch_size, validation_freq, max_queue_size, workers, use_multiprocessing)\u001b[0m\n\u001b[1;32m   1096\u001b[0m                 batch_size=batch_size):\n\u001b[1;32m   1097\u001b[0m               \u001b[0mcallbacks\u001b[0m\u001b[0;34m.\u001b[0m\u001b[0mon_train_batch_begin\u001b[0m\u001b[0;34m(\u001b[0m\u001b[0mstep\u001b[0m\u001b[0;34m)\u001b[0m\u001b[0;34m\u001b[0m\u001b[0;34m\u001b[0m\u001b[0m\n\u001b[0;32m-> 1098\u001b[0;31m               \u001b[0mtmp_logs\u001b[0m \u001b[0;34m=\u001b[0m \u001b[0mtrain_function\u001b[0m\u001b[0;34m(\u001b[0m\u001b[0miterator\u001b[0m\u001b[0;34m)\u001b[0m\u001b[0;34m\u001b[0m\u001b[0;34m\u001b[0m\u001b[0m\n\u001b[0m\u001b[1;32m   1099\u001b[0m               \u001b[0;32mif\u001b[0m \u001b[0mdata_handler\u001b[0m\u001b[0;34m.\u001b[0m\u001b[0mshould_sync\u001b[0m\u001b[0;34m:\u001b[0m\u001b[0;34m\u001b[0m\u001b[0;34m\u001b[0m\u001b[0m\n\u001b[1;32m   1100\u001b[0m                 \u001b[0mcontext\u001b[0m\u001b[0;34m.\u001b[0m\u001b[0masync_wait\u001b[0m\u001b[0;34m(\u001b[0m\u001b[0;34m)\u001b[0m\u001b[0;34m\u001b[0m\u001b[0;34m\u001b[0m\u001b[0m\n",
            "\u001b[0;32m/usr/local/lib/python3.6/dist-packages/tensorflow/python/eager/def_function.py\u001b[0m in \u001b[0;36m__call__\u001b[0;34m(self, *args, **kwds)\u001b[0m\n\u001b[1;32m    778\u001b[0m       \u001b[0;32melse\u001b[0m\u001b[0;34m:\u001b[0m\u001b[0;34m\u001b[0m\u001b[0;34m\u001b[0m\u001b[0m\n\u001b[1;32m    779\u001b[0m         \u001b[0mcompiler\u001b[0m \u001b[0;34m=\u001b[0m \u001b[0;34m\"nonXla\"\u001b[0m\u001b[0;34m\u001b[0m\u001b[0;34m\u001b[0m\u001b[0m\n\u001b[0;32m--> 780\u001b[0;31m         \u001b[0mresult\u001b[0m \u001b[0;34m=\u001b[0m \u001b[0mself\u001b[0m\u001b[0;34m.\u001b[0m\u001b[0m_call\u001b[0m\u001b[0;34m(\u001b[0m\u001b[0;34m*\u001b[0m\u001b[0margs\u001b[0m\u001b[0;34m,\u001b[0m \u001b[0;34m**\u001b[0m\u001b[0mkwds\u001b[0m\u001b[0;34m)\u001b[0m\u001b[0;34m\u001b[0m\u001b[0;34m\u001b[0m\u001b[0m\n\u001b[0m\u001b[1;32m    781\u001b[0m \u001b[0;34m\u001b[0m\u001b[0m\n\u001b[1;32m    782\u001b[0m       \u001b[0mnew_tracing_count\u001b[0m \u001b[0;34m=\u001b[0m \u001b[0mself\u001b[0m\u001b[0;34m.\u001b[0m\u001b[0m_get_tracing_count\u001b[0m\u001b[0;34m(\u001b[0m\u001b[0;34m)\u001b[0m\u001b[0;34m\u001b[0m\u001b[0;34m\u001b[0m\u001b[0m\n",
            "\u001b[0;32m/usr/local/lib/python3.6/dist-packages/tensorflow/python/eager/def_function.py\u001b[0m in \u001b[0;36m_call\u001b[0;34m(self, *args, **kwds)\u001b[0m\n\u001b[1;32m    805\u001b[0m       \u001b[0;31m# In this case we have created variables on the first call, so we run the\u001b[0m\u001b[0;34m\u001b[0m\u001b[0;34m\u001b[0m\u001b[0;34m\u001b[0m\u001b[0m\n\u001b[1;32m    806\u001b[0m       \u001b[0;31m# defunned version which is guaranteed to never create variables.\u001b[0m\u001b[0;34m\u001b[0m\u001b[0;34m\u001b[0m\u001b[0;34m\u001b[0m\u001b[0m\n\u001b[0;32m--> 807\u001b[0;31m       \u001b[0;32mreturn\u001b[0m \u001b[0mself\u001b[0m\u001b[0;34m.\u001b[0m\u001b[0m_stateless_fn\u001b[0m\u001b[0;34m(\u001b[0m\u001b[0;34m*\u001b[0m\u001b[0margs\u001b[0m\u001b[0;34m,\u001b[0m \u001b[0;34m**\u001b[0m\u001b[0mkwds\u001b[0m\u001b[0;34m)\u001b[0m  \u001b[0;31m# pylint: disable=not-callable\u001b[0m\u001b[0;34m\u001b[0m\u001b[0;34m\u001b[0m\u001b[0m\n\u001b[0m\u001b[1;32m    808\u001b[0m     \u001b[0;32melif\u001b[0m \u001b[0mself\u001b[0m\u001b[0;34m.\u001b[0m\u001b[0m_stateful_fn\u001b[0m \u001b[0;32mis\u001b[0m \u001b[0;32mnot\u001b[0m \u001b[0;32mNone\u001b[0m\u001b[0;34m:\u001b[0m\u001b[0;34m\u001b[0m\u001b[0;34m\u001b[0m\u001b[0m\n\u001b[1;32m    809\u001b[0m       \u001b[0;31m# Release the lock early so that multiple threads can perform the call\u001b[0m\u001b[0;34m\u001b[0m\u001b[0;34m\u001b[0m\u001b[0;34m\u001b[0m\u001b[0m\n",
            "\u001b[0;32m/usr/local/lib/python3.6/dist-packages/tensorflow/python/eager/function.py\u001b[0m in \u001b[0;36m__call__\u001b[0;34m(self, *args, **kwargs)\u001b[0m\n\u001b[1;32m   2827\u001b[0m     \u001b[0;32mwith\u001b[0m \u001b[0mself\u001b[0m\u001b[0;34m.\u001b[0m\u001b[0m_lock\u001b[0m\u001b[0;34m:\u001b[0m\u001b[0;34m\u001b[0m\u001b[0;34m\u001b[0m\u001b[0m\n\u001b[1;32m   2828\u001b[0m       \u001b[0mgraph_function\u001b[0m\u001b[0;34m,\u001b[0m \u001b[0margs\u001b[0m\u001b[0;34m,\u001b[0m \u001b[0mkwargs\u001b[0m \u001b[0;34m=\u001b[0m \u001b[0mself\u001b[0m\u001b[0;34m.\u001b[0m\u001b[0m_maybe_define_function\u001b[0m\u001b[0;34m(\u001b[0m\u001b[0margs\u001b[0m\u001b[0;34m,\u001b[0m \u001b[0mkwargs\u001b[0m\u001b[0;34m)\u001b[0m\u001b[0;34m\u001b[0m\u001b[0;34m\u001b[0m\u001b[0m\n\u001b[0;32m-> 2829\u001b[0;31m     \u001b[0;32mreturn\u001b[0m \u001b[0mgraph_function\u001b[0m\u001b[0;34m.\u001b[0m\u001b[0m_filtered_call\u001b[0m\u001b[0;34m(\u001b[0m\u001b[0margs\u001b[0m\u001b[0;34m,\u001b[0m \u001b[0mkwargs\u001b[0m\u001b[0;34m)\u001b[0m  \u001b[0;31m# pylint: disable=protected-access\u001b[0m\u001b[0;34m\u001b[0m\u001b[0;34m\u001b[0m\u001b[0m\n\u001b[0m\u001b[1;32m   2830\u001b[0m \u001b[0;34m\u001b[0m\u001b[0m\n\u001b[1;32m   2831\u001b[0m   \u001b[0;34m@\u001b[0m\u001b[0mproperty\u001b[0m\u001b[0;34m\u001b[0m\u001b[0;34m\u001b[0m\u001b[0m\n",
            "\u001b[0;32m/usr/local/lib/python3.6/dist-packages/tensorflow/python/eager/function.py\u001b[0m in \u001b[0;36m_filtered_call\u001b[0;34m(self, args, kwargs, cancellation_manager)\u001b[0m\n\u001b[1;32m   1846\u001b[0m                            resource_variable_ops.BaseResourceVariable))],\n\u001b[1;32m   1847\u001b[0m         \u001b[0mcaptured_inputs\u001b[0m\u001b[0;34m=\u001b[0m\u001b[0mself\u001b[0m\u001b[0;34m.\u001b[0m\u001b[0mcaptured_inputs\u001b[0m\u001b[0;34m,\u001b[0m\u001b[0;34m\u001b[0m\u001b[0;34m\u001b[0m\u001b[0m\n\u001b[0;32m-> 1848\u001b[0;31m         cancellation_manager=cancellation_manager)\n\u001b[0m\u001b[1;32m   1849\u001b[0m \u001b[0;34m\u001b[0m\u001b[0m\n\u001b[1;32m   1850\u001b[0m   \u001b[0;32mdef\u001b[0m \u001b[0m_call_flat\u001b[0m\u001b[0;34m(\u001b[0m\u001b[0mself\u001b[0m\u001b[0;34m,\u001b[0m \u001b[0margs\u001b[0m\u001b[0;34m,\u001b[0m \u001b[0mcaptured_inputs\u001b[0m\u001b[0;34m,\u001b[0m \u001b[0mcancellation_manager\u001b[0m\u001b[0;34m=\u001b[0m\u001b[0;32mNone\u001b[0m\u001b[0;34m)\u001b[0m\u001b[0;34m:\u001b[0m\u001b[0;34m\u001b[0m\u001b[0;34m\u001b[0m\u001b[0m\n",
            "\u001b[0;32m/usr/local/lib/python3.6/dist-packages/tensorflow/python/eager/function.py\u001b[0m in \u001b[0;36m_call_flat\u001b[0;34m(self, args, captured_inputs, cancellation_manager)\u001b[0m\n\u001b[1;32m   1922\u001b[0m       \u001b[0;31m# No tape is watching; skip to running the function.\u001b[0m\u001b[0;34m\u001b[0m\u001b[0;34m\u001b[0m\u001b[0;34m\u001b[0m\u001b[0m\n\u001b[1;32m   1923\u001b[0m       return self._build_call_outputs(self._inference_function.call(\n\u001b[0;32m-> 1924\u001b[0;31m           ctx, args, cancellation_manager=cancellation_manager))\n\u001b[0m\u001b[1;32m   1925\u001b[0m     forward_backward = self._select_forward_and_backward_functions(\n\u001b[1;32m   1926\u001b[0m         \u001b[0margs\u001b[0m\u001b[0;34m,\u001b[0m\u001b[0;34m\u001b[0m\u001b[0;34m\u001b[0m\u001b[0m\n",
            "\u001b[0;32m/usr/local/lib/python3.6/dist-packages/tensorflow/python/eager/function.py\u001b[0m in \u001b[0;36mcall\u001b[0;34m(self, ctx, args, cancellation_manager)\u001b[0m\n\u001b[1;32m    548\u001b[0m               \u001b[0minputs\u001b[0m\u001b[0;34m=\u001b[0m\u001b[0margs\u001b[0m\u001b[0;34m,\u001b[0m\u001b[0;34m\u001b[0m\u001b[0;34m\u001b[0m\u001b[0m\n\u001b[1;32m    549\u001b[0m               \u001b[0mattrs\u001b[0m\u001b[0;34m=\u001b[0m\u001b[0mattrs\u001b[0m\u001b[0;34m,\u001b[0m\u001b[0;34m\u001b[0m\u001b[0;34m\u001b[0m\u001b[0m\n\u001b[0;32m--> 550\u001b[0;31m               ctx=ctx)\n\u001b[0m\u001b[1;32m    551\u001b[0m         \u001b[0;32melse\u001b[0m\u001b[0;34m:\u001b[0m\u001b[0;34m\u001b[0m\u001b[0;34m\u001b[0m\u001b[0m\n\u001b[1;32m    552\u001b[0m           outputs = execute.execute_with_cancellation(\n",
            "\u001b[0;32m/usr/local/lib/python3.6/dist-packages/tensorflow/python/eager/execute.py\u001b[0m in \u001b[0;36mquick_execute\u001b[0;34m(op_name, num_outputs, inputs, attrs, ctx, name)\u001b[0m\n\u001b[1;32m     58\u001b[0m     \u001b[0mctx\u001b[0m\u001b[0;34m.\u001b[0m\u001b[0mensure_initialized\u001b[0m\u001b[0;34m(\u001b[0m\u001b[0;34m)\u001b[0m\u001b[0;34m\u001b[0m\u001b[0;34m\u001b[0m\u001b[0m\n\u001b[1;32m     59\u001b[0m     tensors = pywrap_tfe.TFE_Py_Execute(ctx._handle, device_name, op_name,\n\u001b[0;32m---> 60\u001b[0;31m                                         inputs, attrs, num_outputs)\n\u001b[0m\u001b[1;32m     61\u001b[0m   \u001b[0;32mexcept\u001b[0m \u001b[0mcore\u001b[0m\u001b[0;34m.\u001b[0m\u001b[0m_NotOkStatusException\u001b[0m \u001b[0;32mas\u001b[0m \u001b[0me\u001b[0m\u001b[0;34m:\u001b[0m\u001b[0;34m\u001b[0m\u001b[0;34m\u001b[0m\u001b[0m\n\u001b[1;32m     62\u001b[0m     \u001b[0;32mif\u001b[0m \u001b[0mname\u001b[0m \u001b[0;32mis\u001b[0m \u001b[0;32mnot\u001b[0m \u001b[0;32mNone\u001b[0m\u001b[0;34m:\u001b[0m\u001b[0;34m\u001b[0m\u001b[0;34m\u001b[0m\u001b[0m\n",
            "\u001b[0;31mKeyboardInterrupt\u001b[0m: "
          ]
        }
      ]
    },
    {
      "cell_type": "markdown",
      "metadata": {
        "id": "4jqPc6hZCBKp"
      },
      "source": [
        "Load the saved model"
      ]
    },
    {
      "cell_type": "code",
      "metadata": {
        "id": "vySDJ2NtB_ZB"
      },
      "source": [
        "# The model weights (that are considered the best) are loaded into the model.\n",
        "model.load_weights(checkpoint_filepath)"
      ],
      "execution_count": null,
      "outputs": []
    },
    {
      "cell_type": "markdown",
      "metadata": {
        "id": "pbz_o4mwpfTi"
      },
      "source": [
        "Plotting the accuracy and loss of our training and validation data."
      ]
    },
    {
      "cell_type": "code",
      "metadata": {
        "ExecuteTime": {
          "end_time": "2020-11-05T10:35:30.633481Z",
          "start_time": "2020-11-05T10:35:30.341672Z"
        },
        "id": "L1E4o0H0pfTj",
        "colab": {
          "base_uri": "https://localhost:8080/",
          "height": 486
        },
        "outputId": "ec37e291-cc0b-4095-fcbf-ee1a5a814f47"
      },
      "source": [
        "#Plotting Accuracy\n",
        "plt.figure(figsize = (20, 7))\n",
        "print(len(history.history[\"accuracy\"]))\n",
        "plt.plot(np.arange(1, len(history.history[\"accuracy\"])+1), history.history[\"accuracy\"], label = \"Train Data\")\n",
        "plt.plot(np.arange(1, len(history.history[\"accuracy\"])+1), history.history[\"val_accuracy\"], label = \"Test Data\")\n",
        "plt.legend(fontsize = 15)\n",
        "plt.xlabel(\"Epoch\", size = 15)\n",
        "plt.ylabel(\"Accuracy\", size = 15)\n",
        "plt.title(\"Accuracy of MNIST over Epochs\", size = 20)\n",
        "plt.grid()\n",
        "plt.show()"
      ],
      "execution_count": 160,
      "outputs": [
        {
          "output_type": "stream",
          "text": [
            "67\n"
          ],
          "name": "stdout"
        },
        {
          "output_type": "display_data",
          "data": {
            "image/png": "[encoded data removed]",
            "text/plain": [
              "<Figure size 1440x504 with 1 Axes>"
            ]
          },
          "metadata": {
            "tags": [],
            "needs_background": "light"
          }
        }
      ]
    },
    {
      "cell_type": "code",
      "metadata": {
        "ExecuteTime": {
          "end_time": "2020-11-05T10:36:14.197532Z",
          "start_time": "2020-11-05T10:36:13.905882Z"
        },
        "id": "zNDAwWeapfTn",
        "colab": {
          "base_uri": "https://localhost:8080/",
          "height": 468
        },
        "outputId": "0bc1eed6-4508-48f9-e6df-2eaae6a3c960"
      },
      "source": [
        "#Plotting Loss\n",
        "plt.figure(figsize = (20, 7))\n",
        "plt.plot(np.arange(1, len(history.history[\"accuracy\"])+1), history.history[\"loss\"], label = \"Train Data\")\n",
        "plt.plot(np.arange(1, len(history.history[\"accuracy\"])+1), history.history[\"val_loss\"], label = \"Test Data\")\n",
        "plt.legend(fontsize = 15)\n",
        "plt.xlabel(\"Epoch\", size = 15)\n",
        "plt.ylabel(\"Loss\", size = 15)\n",
        "plt.title(\"Loss of MNIST over Epochs\", size = 20)\n",
        "plt.grid()\n",
        "plt.show()"
      ],
      "execution_count": 161,
      "outputs": [
        {
          "output_type": "display_data",
          "data": {
            "image/png": "[encoded data removed]",
            "text/plain": [
              "<Figure size 1440x504 with 1 Axes>"
            ]
          },
          "metadata": {
            "tags": [],
            "needs_background": "light"
          }
        }
      ]
    },
    {
      "cell_type": "markdown",
      "metadata": {
        "id": "bqJRUvDUpfTt"
      },
      "source": [
        "Since our training and validation data seems to be closely tied, we can conclude there's hardly any overfitting. Creating a confusion matrix"
      ]
    },
    {
      "cell_type": "code",
      "metadata": {
        "ExecuteTime": {
          "end_time": "2020-11-05T10:37:35.043428Z",
          "start_time": "2020-11-05T10:37:32.637472Z"
        },
        "id": "4dU7OsjtpfTu",
        "colab": {
          "base_uri": "https://localhost:8080/"
        },
        "outputId": "ca8db3f1-4867-47b4-fd16-1f04ff5c6260"
      },
      "source": [
        "#Determining error from confusion matrix\n",
        "from sklearn.metrics import confusion_matrix\n",
        "confusion_matrix(y_test, np.argmax(model.predict(X_test), axis = -1))"
      ],
      "execution_count": 54,
      "outputs": [
        {
          "output_type": "execute_result",
          "data": {
            "text/plain": [
              "array([[ 976,    0,    0,    0,    0,    1,    2,    0,    0,    1],\n",
              "       [   1, 1130,    0,    0,    1,    0,    1,    1,    1,    0],\n",
              "       [   1,    2, 1022,    0,    1,    0,    0,    4,    2,    0],\n",
              "       [   0,    0,    1, 1002,    0,    3,    0,    0,    4,    0],\n",
              "       [   0,    1,    0,    0,  969,    0,    2,    1,    2,    7],\n",
              "       [   2,    0,    0,    5,    0,  881,    4,    0,    0,    0],\n",
              "       [   2,    2,    0,    0,    0,    1,  951,    0,    2,    0],\n",
              "       [   0,    3,    5,    0,    0,    0,    0, 1017,    1,    2],\n",
              "       [   5,    1,    1,    1,    0,    1,    0,    2,  962,    1],\n",
              "       [   0,    0,    0,    1,    4,    1,    0,    4,    3,  996]])"
            ]
          },
          "metadata": {
            "tags": []
          },
          "execution_count": 54
        }
      ]
    },
    {
      "cell_type": "markdown",
      "metadata": {
        "id": "0AofGLLopfTz"
      },
      "source": [
        "A nicer plot"
      ]
    },
    {
      "cell_type": "code",
      "metadata": {
        "ExecuteTime": {
          "end_time": "2020-11-05T10:37:36.611674Z",
          "start_time": "2020-11-05T10:37:35.047048Z"
        },
        "id": "zhY8dwUdpfT0",
        "colab": {
          "base_uri": "https://localhost:8080/",
          "height": 580
        },
        "outputId": "81eda418-c28a-495e-9ffa-673fd0e6b270"
      },
      "source": [
        "#Creating a plotting function for a confusion matrix\n",
        "import itertools\n",
        "cm = confusion_matrix(y_test, np.argmax(model.predict(X_test), axis = -1))\n",
        "plt.figure(figsize=(10, 10))\n",
        "plt.imshow(cm, plt.cm.Blues)\n",
        "plt.colorbar()\n",
        "plt.title(\"Confusion Matrix For Model vs True Labels\", size = 20)\n",
        "fmt = 'd'\n",
        "thresh = cm.max() / 2.\n",
        "for i, j in itertools.product(range(cm.shape[0]), range(cm.shape[1])):\n",
        "    plt.text(j, i, format(cm[i, j], fmt),\n",
        "              horizontalalignment=\"center\",\n",
        "              color=\"white\" if cm[i, j] > thresh else \"black\")\n",
        "plt.xlabel(\"Predicted Labels\", size = 15)\n",
        "plt.xticks(np.arange(0, 10))\n",
        "plt.ylabel(\"True Labels\", size = 15)\n",
        "plt.yticks(np.arange(0, 10))\n",
        "plt.show()"
      ],
      "execution_count": 55,
      "outputs": [
        {
          "output_type": "display_data",
          "data": {
            "image/png": "[encoded data removed]",
            "text/plain": [
              "<Figure size 720x720 with 2 Axes>"
            ]
          },
          "metadata": {
            "tags": [],
            "needs_background": "light"
          }
        }
      ]
    },
    {
      "cell_type": "markdown",
      "metadata": {
        "id": "7Gk0SwV6pfT5"
      },
      "source": [
        "A confusion matrix is useful in looking at what values are predicting expected values. For example, the graph above shows that our model predicted nine +30 times when in reality it was four. This checks out, as fours and nines can occasionally look alike.\n",
        "\n",
        "A note on reading a confusion matrix: The heavy blue diagonal represents correctly predicted labels. Everything outside the diagonal represents predicted labels that were wrong to guess a certain true label. Match the x-axis and y-axis to determine what values were guessed correctly/incorrectly. What's the highest incorrectly predicted number? Does it make sense why a model would confuse it (i.e. can the incorrectly predicted value and true label be similarly drawn)? Would a human confuse this incorrectly predicted number?"
      ]
    },
    {
      "cell_type": "markdown",
      "metadata": {
        "id": "JSuvAeUgC4bK"
      },
      "source": [
        "Finally, we see how our model performs using our test data."
      ]
    },
    {
      "cell_type": "code",
      "metadata": {
        "id": "Iwq57XBdC2gH",
        "colab": {
          "base_uri": "https://localhost:8080/"
        },
        "outputId": "d0883f94-e7f7-4292-9265-6b386416e0fe"
      },
      "source": [
        "score = model.evaluate(X_test, y_test)\n",
        "print(\"loss:\", score[0], \"acc:\", score[1])"
      ],
      "execution_count": 166,
      "outputs": [
        {
          "output_type": "stream",
          "text": [
            "157/157 [==============================] - 0s 2ms/step - loss: 0.0363 - accuracy: 0.9912\n",
            "loss: 0.03626396879553795 acc: 0.9911999702453613\n"
          ],
          "name": "stdout"
        }
      ]
    },
    {
      "cell_type": "markdown",
      "metadata": {
        "id": "Vqf6-eCmpfT7"
      },
      "source": [
        "## Question 1: Your Turn, Get Better Results Than Me On MNIST"
      ]
    },
    {
      "cell_type": "markdown",
      "metadata": {
        "id": "6tWEo6nZpfT7"
      },
      "source": [
        "Can you get better accuracy than me? I know there's specific hyperparameters where accuracy can get +99%. Here's a list of some hyperparameters you can tune:"
      ]
    },
    {
      "cell_type": "markdown",
      "metadata": {
        "id": "OCESB_YVpfT9"
      },
      "source": [
        "#### Hyperparameters:\n",
        "- Number of layers\n",
        "- Number of neurons in layers\n",
        "- Activation functions\n",
        "- Learning rate\n",
        "- Loss\n",
        "- Optimizer\n",
        "- Metrics\n",
        "- Epochs\n",
        "\n",
        "Hyperparameter testing shows how expensive testing every single option can be. I recommend changing the learning rate, number of layers, number of neurons, and activation function, but feel free to change or add whatever you'd like."
      ]
    },
    {
      "cell_type": "markdown",
      "metadata": {
        "id": "qNPSGv5ppfT9"
      },
      "source": [
        "#### Cheatsheet on how to do the above:\n",
        "- **Adding a layer**: `model.add(keras.layers.Dense())`\n",
        "- **Number of neurons in layers**: Input/change number inside `keras.layers.Dense()`\n",
        "- **Changing Activation functions**: In a dense layer, write `Dense(activation=\"InsertFunctionNameHere\")`. Examples of other functions can be found [here](https://keras.io/api/layers/activations/)\n",
        "- **Changing learning rate**: Involves importing `backend`. Instructions/a quick example can be found [here](https://stackoverflow.com/a/62113860).\n",
        "- **Changing Loss functions**: Same as changing Activation functions, but the loss is defined/changed when you call `model.compile(loss=\"InsertFunctionNameHere\")`. Be mindful to see what losses are appropriate for what models (you don't want a continuous loss on a binary model; continous and discrete don't mix!). This shouldn't be tweaked too much, but I want to give you all full control. List of loss functions [here](https://keras.io/api/losses/).\n",
        "- **Changing Optimizer**: This can speed up or give you better results:  `model.compile(optimizer=\"InsertOptimizerNameHere\")`. List of Optimizers are [here](https://keras.io/api/optimizers/). Try Adam or RMSprop since they seem to be popular.\n",
        "- **Changing or Adding Metrics**: Similar to changing optimizer and loss: `model.compile(metrics=[\"InsertListOfMetricsHere\"])`. You can run multiple metrics at the same time and it shouldn't decrease your performance. The same advise goes here as to changing loss functions: be aware what metrics are telling you what before you go on and change them. Here's a [list](https://keras.io/api/metrics/) of metrics.\n",
        "- **Changing Number of Epochs**: Changed when running `model.fit(epochs=\"InsertNumericValueHere\")`. Strategies of running a certain number of epochs can be found [here](https://www.codespeedy.com/how-to-choose-number-of-epochs-to-train-a-neural-network-in-keras/)."
      ]
    },
    {
      "cell_type": "markdown",
      "metadata": {
        "id": "mexfaLpzpfT-"
      },
      "source": [
        "Another way to improve results is to do image processing on the data. Since this notebook is to practice Keras I won't give any hints. But I do want to point it out since in real life, modifying data is universal to improving and speeding any model. You're more likely to do this first as a strategy than tweak for model parameters. For now, however, we do this for practice."
      ]
    },
    {
      "cell_type": "code",
      "metadata": {
        "id": "4MSqehRA5rme"
      },
      "source": [
        "from numpy.random import seed\n",
        "seed(42)\n",
        "from tensorflow.random import set_seed\n",
        "set_seed(42)\n",
        "#If the two lines above give you error, mute them and run the following:\n",
        "# import tensorflow\n",
        "# tensorflow.random.set_seed(42)"
      ],
      "execution_count": null,
      "outputs": []
    },
    {
      "cell_type": "code",
      "metadata": {
        "id": "aqq9EPjOpfT_"
      },
      "source": [
        "#TODO: Create model, compile, and train (and I highly recommend that you\n",
        "#plot/make a confusion matrix, as it's super helpful in gaining context to \n",
        "#how your model is acting and where is error largest.)\n",
        "###YOUR CODE BELOW###\n",
        "your_model = ..."
      ],
      "execution_count": null,
      "outputs": []
    },
    {
      "cell_type": "code",
      "metadata": {
        "id": "hQCz2WLjpfUE"
      },
      "source": [
        "###EXTRA CELL IF NEEDED###\n",
        "#Feel free to create as many as needed."
      ],
      "execution_count": null,
      "outputs": []
    },
    {
      "cell_type": "code",
      "metadata": {
        "id": "toVbfan1DJEx"
      },
      "source": [
        "#Tester cell to see if your model is beating my results\n",
        "#Run this for your credit\n",
        "# your_score = your_model.evaluate(X_test, y_test)\n",
        "# print(\"loss:\", your_score[0], \"acc:\", your_score[1])\n",
        "# assert your_score[1] > score[1]"
      ],
      "execution_count": null,
      "outputs": []
    },
    {
      "cell_type": "markdown",
      "metadata": {
        "id": "Hh6keY-bpfUH"
      },
      "source": [
        "## Question 2: Create a Fashion Classifier"
      ]
    },
    {
      "cell_type": "markdown",
      "metadata": {
        "id": "g0wY_nrgpfUI"
      },
      "source": [
        "MNIST is known as being \"too easy\" for machine learning models. Classical ML models (e.g. SVMs, Random Forests) are able to score +99% accuracy with less training. Another similar dataset, named *Fashion MNIST*, is gaining popularity as it's a much harder classification problem while quite similar to MNIST.\n",
        "\n",
        "In this section, you will be creating a classifier for this fashion dataset. This dataset is very similar to MNIST in structure, so there won't be much hand holding in this section. In theory, you can copy/paste everything in the previous section and change very little. I recommend typing everything out (particularly in the Keras section) as it gets you familiar with actually learning Keras.\n",
        "\n",
        "A note about Fashion MNIST: the dataset is heavily pre-processed. The data won't look pretty to us (it's pixalated and colorless), but to a computer it's simple enough."
      ]
    },
    {
      "cell_type": "code",
      "metadata": {
        "id": "dHGJiYja5tNQ"
      },
      "source": [
        "from numpy.random import seed\n",
        "seed(42)\n",
        "from tensorflow.random import set_seed\n",
        "set_seed(42)\n",
        "#If the two lines above give you error, mute them and run the following:\n",
        "# import tensorflow\n",
        "# tensorflow.random.set_seed(42)"
      ],
      "execution_count": 4,
      "outputs": []
    },
    {
      "cell_type": "code",
      "metadata": {
        "id": "1FS_YPdPpfUJ",
        "colab": {
          "base_uri": "https://localhost:8080/"
        },
        "outputId": "25aa7747-a7d0-42c8-e381-8a284f90d27c"
      },
      "source": [
        "from keras.datasets import fashion_mnist\n",
        "#Load Data\n",
        "#HINT: You can load Fashion MNIST from Keras the same way you do with MNIST.\n",
        "#You may have to do some digging on the internet in order to do this.\n",
        "#This exercise is to get you familiar with the Keras API\n",
        "(X_train_full, y_train_full), (X_test, y_test) = fashion_mnist.load_data()\n",
        "#Your labels in y are numbers from 0-9. Each of those numbers corresponds to \n",
        "#an index to a label in the labels variable. i.e. 8 = \"Bag\", 4 = \"Coat\", etc.\n",
        "labels = [\"T-shirt/top\", \"Trouser\", \"Pullover\", \"Dress\", \"Coat\", \"Sandal\", \n",
        "         \"Shirt\", \"Sneaker\", \"Bag\", \"Ankle boot\"]"
      ],
      "execution_count": 5,
      "outputs": [
        {
          "output_type": "stream",
          "text": [
            "Downloading data from https://storage.googleapis.com/tensorflow/tf-keras-datasets/train-labels-idx1-ubyte.gz\n",
            "32768/29515 [=================================] - 0s 0us/step\n",
            "Downloading data from https://storage.googleapis.com/tensorflow/tf-keras-datasets/train-images-idx3-ubyte.gz\n",
            "26427392/26421880 [==============================] - 0s 0us/step\n",
            "Downloading data from https://storage.googleapis.com/tensorflow/tf-keras-datasets/t10k-labels-idx1-ubyte.gz\n",
            "8192/5148 [===============================================] - 0s 0us/step\n",
            "Downloading data from https://storage.googleapis.com/tensorflow/tf-keras-datasets/t10k-images-idx3-ubyte.gz\n",
            "4423680/4422102 [==============================] - 0s 0us/step\n"
          ],
          "name": "stdout"
        }
      ]
    },
    {
      "cell_type": "code",
      "metadata": {
        "ExecuteTime": {
          "end_time": "2020-11-05T11:33:22.953917Z",
          "start_time": "2020-11-05T11:33:22.942629Z"
        },
        "id": "PNLkSCnspfUQ",
        "colab": {
          "base_uri": "https://localhost:8080/",
          "height": 357
        },
        "outputId": "8a47442b-25d0-4454-98a9-967b660602de"
      },
      "source": [
        "#Analyze Data (Optional, up to you on what to discover). Recommend you take \n",
        "#plotImage to see how the data has been pre-processed initially. (In general, \n",
        "#it's always a good idea to know how your data looks like.) You may have to \n",
        "#modify plotImage.\n",
        "plotImage(X_train_full[np.random.randint(0, len(X_train_full))])"
      ],
      "execution_count": 8,
      "outputs": [
        {
          "output_type": "display_data",
          "data": {
            "image/png": "[encoded data removed]",
            "text/plain": [
              "<Figure size 432x432 with 1 Axes>"
            ]
          },
          "metadata": {
            "tags": [],
            "needs_background": "light"
          }
        }
      ]
    },
    {
      "cell_type": "code",
      "metadata": {
        "id": "hgLyAUG3pfUa"
      },
      "source": [
        "#Pre-Process Data \n",
        "#Hint: Very similar to MNIST\n",
        "X_valid, X_train = X_train_full[:5000] / 255, X_train_full[5000:] / 255\n",
        "y_valid, y_train = y_train_full[:5000], y_train_full[5000:]\n",
        "X_test = X_test / 255"
      ],
      "execution_count": 9,
      "outputs": []
    },
    {
      "cell_type": "code",
      "metadata": {
        "ExecuteTime": {
          "end_time": "2020-11-05T11:34:53.648826Z",
          "start_time": "2020-11-05T11:34:53.637239Z"
        },
        "id": "Xc9FHwFzpfUf"
      },
      "source": [
        "#Create model\n",
        "from numpy.random import seed\n",
        "seed(42)\n",
        "from tensorflow.random import set_seed\n",
        "set_seed(42)\n",
        "#If the two lines above give you error, mute them and run the following:\n",
        "# import tensorflow\n",
        "# tensorflow.random.set_seed(42)\n"
      ],
      "execution_count": 16,
      "outputs": []
    },
    {
      "cell_type": "code",
      "metadata": {
        "id": "SmGHIH_Jm_w9"
      },
      "source": [
        "model = keras.models.Sequential()\n",
        "\n",
        "model.add(keras.layers.Flatten(input_shape=[28, 28]))\n",
        "model.add(keras.layers.Dropout(.2))\n",
        "model.add(keras.layers.Dense(4096, activation=\"relu\"))\n",
        "model.add(keras.layers.Dropout(.2))\n",
        "model.add(keras.layers.Dense(64, activation=\"relu\"))\n",
        "model.add(keras.layers.Dropout(.2))\n",
        "model.add(keras.layers.Dense(10, activation=\"softmax\"))"
      ],
      "execution_count": 10,
      "outputs": []
    },
    {
      "cell_type": "code",
      "metadata": {
        "id": "SJWFRqVszhGy"
      },
      "source": [
        "EPOCHS = 128\n",
        "checkpoint_filepath = 'weights.best.hdf5'\n",
        "es = keras.callbacks.EarlyStopping(monitor='val_loss', mode='min', verbose=1, patience=20)\n",
        "mc = keras.callbacks.ModelCheckpoint(checkpoint_filepath, monitor='val_accuracy', \n",
        "                                     mode='max', verbose=1, save_best_only=True)"
      ],
      "execution_count": 11,
      "outputs": []
    },
    {
      "cell_type": "code",
      "metadata": {
        "id": "XaKd-4qygk1f"
      },
      "source": [
        "model.compile(loss=\"sparse_categorical_crossentropy\", #Loss function\n",
        "              optimizer='adam', #keras.optimizers.Adadelta(), \n",
        "              metrics=[\"accuracy\"])"
      ],
      "execution_count": 13,
      "outputs": []
    },
    {
      "cell_type": "code",
      "metadata": {
        "colab": {
          "base_uri": "https://localhost:8080/"
        },
        "id": "mJZqRN3hgc94",
        "outputId": "932a7367-b52e-4b68-d16d-9798a2c4b88d"
      },
      "source": [
        "datagen = keras.preprocessing.image.ImageDataGenerator(\n",
        "    rotation_range=10,  \n",
        "    zoom_range = 0.05,  \n",
        "    shear_range=0.2, # bendiness (square to parallelogram kind of transformation)\n",
        "    width_shift_range=0.15, \n",
        "    height_shift_range=0.15,\n",
        "    horizontal_flip=True)\n",
        "\n",
        "history = model.fit_generator(datagen.flow(X_train.reshape(-1, 28, 28, 1), y_train),\n",
        "                              epochs=EPOCHS,\n",
        "                              validation_data=(X_valid, y_valid), callbacks=[mc,es])"
      ],
      "execution_count": null,
      "outputs": [
        {
          "output_type": "stream",
          "text": [
            "Epoch 1/128\n",
            "1717/1719 [============================>.] - ETA: 0s - loss: 0.6579 - accuracy: 0.7660\n",
            "Epoch 00001: val_accuracy did not improve from 0.89480\n",
            "1719/1719 [==============================] - 16s 9ms/step - loss: 0.6575 - accuracy: 0.7662 - val_loss: 0.3363 - val_accuracy: 0.8734\n",
            "Epoch 2/128\n",
            "1714/1719 [============================>.] - ETA: 0s - loss: 0.6032 - accuracy: 0.7771\n",
            "Epoch 00002: val_accuracy did not improve from 0.89480\n",
            "1719/1719 [==============================] - 16s 9ms/step - loss: 0.6032 - accuracy: 0.7772 - val_loss: 0.3400 - val_accuracy: 0.8724\n",
            "Epoch 3/128\n",
            "1716/1719 [============================>.] - ETA: 0s - loss: 0.5932 - accuracy: 0.7825\n",
            "Epoch 00003: val_accuracy did not improve from 0.89480\n",
            "1719/1719 [==============================] - 16s 9ms/step - loss: 0.5930 - accuracy: 0.7825 - val_loss: 0.3433 - val_accuracy: 0.8772\n",
            "Epoch 4/128\n",
            "1718/1719 [============================>.] - ETA: 0s - loss: 0.5884 - accuracy: 0.7828\n",
            "Epoch 00004: val_accuracy did not improve from 0.89480\n",
            "1719/1719 [==============================] - 16s 9ms/step - loss: 0.5883 - accuracy: 0.7828 - val_loss: 0.3477 - val_accuracy: 0.8620\n",
            "Epoch 5/128\n",
            "1717/1719 [============================>.] - ETA: 0s - loss: 0.5818 - accuracy: 0.7864\n",
            "Epoch 00005: val_accuracy did not improve from 0.89480\n",
            "1719/1719 [==============================] - 16s 9ms/step - loss: 0.5816 - accuracy: 0.7864 - val_loss: 0.3536 - val_accuracy: 0.8662\n",
            "Epoch 6/128\n",
            "1718/1719 [============================>.] - ETA: 0s - loss: 0.5773 - accuracy: 0.7861\n",
            "Epoch 00006: val_accuracy did not improve from 0.89480\n",
            "1719/1719 [==============================] - 16s 9ms/step - loss: 0.5774 - accuracy: 0.7861 - val_loss: 0.3508 - val_accuracy: 0.8698\n",
            "Epoch 7/128\n",
            "1715/1719 [============================>.] - ETA: 0s - loss: 0.5822 - accuracy: 0.7879\n",
            "Epoch 00007: val_accuracy did not improve from 0.89480\n",
            "1719/1719 [==============================] - 16s 9ms/step - loss: 0.5823 - accuracy: 0.7878 - val_loss: 0.3460 - val_accuracy: 0.8706\n",
            "Epoch 8/128\n",
            "1717/1719 [============================>.] - ETA: 0s - loss: 0.5708 - accuracy: 0.7908\n",
            "Epoch 00008: val_accuracy did not improve from 0.89480\n",
            "1719/1719 [==============================] - 16s 9ms/step - loss: 0.5709 - accuracy: 0.7907 - val_loss: 0.3466 - val_accuracy: 0.8666\n",
            "Epoch 9/128\n",
            "1718/1719 [============================>.] - ETA: 0s - loss: 0.5706 - accuracy: 0.7910\n",
            "Epoch 00009: val_accuracy did not improve from 0.89480\n",
            "1719/1719 [==============================] - 16s 9ms/step - loss: 0.5706 - accuracy: 0.7909 - val_loss: 0.3504 - val_accuracy: 0.8708\n",
            "Epoch 10/128\n",
            "1716/1719 [============================>.] - ETA: 0s - loss: 0.5631 - accuracy: 0.7900\n",
            "Epoch 00010: val_accuracy did not improve from 0.89480\n",
            "1719/1719 [==============================] - 16s 9ms/step - loss: 0.5630 - accuracy: 0.7900 - val_loss: 0.3438 - val_accuracy: 0.8710\n",
            "Epoch 11/128\n",
            "1715/1719 [============================>.] - ETA: 0s - loss: 0.5708 - accuracy: 0.7897\n",
            "Epoch 00011: val_accuracy did not improve from 0.89480\n",
            "1719/1719 [==============================] - 16s 9ms/step - loss: 0.5707 - accuracy: 0.7898 - val_loss: 0.3427 - val_accuracy: 0.8690\n",
            "Epoch 12/128\n",
            "1716/1719 [============================>.] - ETA: 0s - loss: 0.5640 - accuracy: 0.7904\n",
            "Epoch 00012: val_accuracy did not improve from 0.89480\n",
            "1719/1719 [==============================] - 16s 9ms/step - loss: 0.5639 - accuracy: 0.7904 - val_loss: 0.3471 - val_accuracy: 0.8698\n",
            "Epoch 13/128\n",
            "1715/1719 [============================>.] - ETA: 0s - loss: 0.5588 - accuracy: 0.7913\n",
            "Epoch 00013: val_accuracy did not improve from 0.89480\n",
            "1719/1719 [==============================] - 16s 9ms/step - loss: 0.5590 - accuracy: 0.7914 - val_loss: 0.3462 - val_accuracy: 0.8672\n",
            "Epoch 14/128\n",
            "1719/1719 [==============================] - ETA: 0s - loss: 0.5663 - accuracy: 0.7919\n",
            "Epoch 00014: val_accuracy did not improve from 0.89480\n",
            "1719/1719 [==============================] - 16s 9ms/step - loss: 0.5663 - accuracy: 0.7919 - val_loss: 0.3372 - val_accuracy: 0.8704\n",
            "Epoch 15/128\n",
            "1715/1719 [============================>.] - ETA: 0s - loss: 0.5579 - accuracy: 0.7938\n",
            "Epoch 00015: val_accuracy did not improve from 0.89480\n",
            "1719/1719 [==============================] - 17s 10ms/step - loss: 0.5578 - accuracy: 0.7937 - val_loss: 0.3350 - val_accuracy: 0.8766\n",
            "Epoch 16/128\n",
            "1718/1719 [============================>.] - ETA: 0s - loss: 0.5528 - accuracy: 0.7948\n",
            "Epoch 00016: val_accuracy did not improve from 0.89480\n",
            "1719/1719 [==============================] - 16s 9ms/step - loss: 0.5528 - accuracy: 0.7949 - val_loss: 0.3355 - val_accuracy: 0.8742\n",
            "Epoch 17/128\n",
            "1718/1719 [============================>.] - ETA: 0s - loss: 0.5542 - accuracy: 0.7925\n",
            "Epoch 00017: val_accuracy did not improve from 0.89480\n",
            "1719/1719 [==============================] - 16s 9ms/step - loss: 0.5542 - accuracy: 0.7925 - val_loss: 0.3535 - val_accuracy: 0.8674\n",
            "Epoch 18/128\n",
            "1717/1719 [============================>.] - ETA: 0s - loss: 0.5563 - accuracy: 0.7947\n",
            "Epoch 00018: val_accuracy did not improve from 0.89480\n",
            "1719/1719 [==============================] - 16s 9ms/step - loss: 0.5564 - accuracy: 0.7947 - val_loss: 0.3333 - val_accuracy: 0.8784\n",
            "Epoch 19/128\n",
            "1719/1719 [==============================] - ETA: 0s - loss: 0.5526 - accuracy: 0.7962\n",
            "Epoch 00019: val_accuracy did not improve from 0.89480\n",
            "1719/1719 [==============================] - 16s 9ms/step - loss: 0.5526 - accuracy: 0.7962 - val_loss: 0.3353 - val_accuracy: 0.8742\n",
            "Epoch 20/128\n",
            "1717/1719 [============================>.] - ETA: 0s - loss: 0.5546 - accuracy: 0.7969\n",
            "Epoch 00020: val_accuracy did not improve from 0.89480\n",
            "1719/1719 [==============================] - 16s 9ms/step - loss: 0.5545 - accuracy: 0.7969 - val_loss: 0.3452 - val_accuracy: 0.8734\n",
            "Epoch 21/128\n",
            "1719/1719 [==============================] - ETA: 0s - loss: 0.5497 - accuracy: 0.7951\n",
            "Epoch 00021: val_accuracy did not improve from 0.89480\n",
            "1719/1719 [==============================] - 16s 9ms/step - loss: 0.5497 - accuracy: 0.7951 - val_loss: 0.3408 - val_accuracy: 0.8718\n",
            "Epoch 22/128\n",
            "1717/1719 [============================>.] - ETA: 0s - loss: 0.5557 - accuracy: 0.7977\n",
            "Epoch 00022: val_accuracy did not improve from 0.89480\n",
            "1719/1719 [==============================] - 16s 9ms/step - loss: 0.5556 - accuracy: 0.7977 - val_loss: 0.3471 - val_accuracy: 0.8714\n",
            "Epoch 23/128\n",
            "1718/1719 [============================>.] - ETA: 0s - loss: 0.5519 - accuracy: 0.7977\n",
            "Epoch 00023: val_accuracy did not improve from 0.89480\n",
            "1719/1719 [==============================] - 17s 10ms/step - loss: 0.5518 - accuracy: 0.7977 - val_loss: 0.3455 - val_accuracy: 0.8678\n",
            "Epoch 24/128\n",
            "1714/1719 [============================>.] - ETA: 0s - loss: 0.5540 - accuracy: 0.7964\n",
            "Epoch 00024: val_accuracy did not improve from 0.89480\n",
            "1719/1719 [==============================] - 16s 9ms/step - loss: 0.5545 - accuracy: 0.7964 - val_loss: 0.3385 - val_accuracy: 0.8712\n",
            "Epoch 25/128\n",
            "1718/1719 [============================>.] - ETA: 0s - loss: 0.5501 - accuracy: 0.7988\n",
            "Epoch 00025: val_accuracy did not improve from 0.89480\n",
            "1719/1719 [==============================] - 17s 10ms/step - loss: 0.5502 - accuracy: 0.7988 - val_loss: 0.3538 - val_accuracy: 0.8706\n",
            "Epoch 26/128\n",
            "1715/1719 [============================>.] - ETA: 0s - loss: 0.5445 - accuracy: 0.7984\n",
            "Epoch 00026: val_accuracy did not improve from 0.89480\n",
            "1719/1719 [==============================] - 16s 9ms/step - loss: 0.5443 - accuracy: 0.7984 - val_loss: 0.3442 - val_accuracy: 0.8710\n",
            "Epoch 27/128\n",
            "1714/1719 [============================>.] - ETA: 0s - loss: 0.5472 - accuracy: 0.7985\n",
            "Epoch 00027: val_accuracy did not improve from 0.89480\n",
            "1719/1719 [==============================] - 16s 9ms/step - loss: 0.5476 - accuracy: 0.7984 - val_loss: 0.3579 - val_accuracy: 0.8646\n",
            "Epoch 28/128\n",
            "1714/1719 [============================>.] - ETA: 0s - loss: 0.5486 - accuracy: 0.7976\n",
            "Epoch 00028: val_accuracy did not improve from 0.89480\n",
            "1719/1719 [==============================] - 16s 9ms/step - loss: 0.5485 - accuracy: 0.7975 - val_loss: 0.3341 - val_accuracy: 0.8820\n",
            "Epoch 29/128\n",
            "1714/1719 [============================>.] - ETA: 0s - loss: 0.5432 - accuracy: 0.8015\n",
            "Epoch 00029: val_accuracy did not improve from 0.89480\n",
            "1719/1719 [==============================] - 16s 9ms/step - loss: 0.5431 - accuracy: 0.8015 - val_loss: 0.3367 - val_accuracy: 0.8708\n",
            "Epoch 30/128\n",
            "1715/1719 [============================>.] - ETA: 0s - loss: 0.5420 - accuracy: 0.7990\n",
            "Epoch 00030: val_accuracy did not improve from 0.89480\n",
            "1719/1719 [==============================] - 16s 10ms/step - loss: 0.5418 - accuracy: 0.7991 - val_loss: 0.3437 - val_accuracy: 0.8716\n",
            "Epoch 31/128\n",
            "1717/1719 [============================>.] - ETA: 0s - loss: 0.5437 - accuracy: 0.7989\n",
            "Epoch 00031: val_accuracy did not improve from 0.89480\n",
            "1719/1719 [==============================] - 16s 9ms/step - loss: 0.5437 - accuracy: 0.7989 - val_loss: 0.3425 - val_accuracy: 0.8672\n",
            "Epoch 32/128\n",
            "1715/1719 [============================>.] - ETA: 0s - loss: 0.5428 - accuracy: 0.8002\n",
            "Epoch 00032: val_accuracy did not improve from 0.89480\n",
            "1719/1719 [==============================] - 16s 9ms/step - loss: 0.5428 - accuracy: 0.8002 - val_loss: 0.3406 - val_accuracy: 0.8780\n",
            "Epoch 33/128\n",
            "1716/1719 [============================>.] - ETA: 0s - loss: 0.5465 - accuracy: 0.7986\n",
            "Epoch 00033: val_accuracy did not improve from 0.89480\n",
            "1719/1719 [==============================] - 16s 9ms/step - loss: 0.5467 - accuracy: 0.7985 - val_loss: 0.3404 - val_accuracy: 0.8738\n",
            "Epoch 34/128\n",
            "1714/1719 [============================>.] - ETA: 0s - loss: 0.5411 - accuracy: 0.8015\n",
            "Epoch 00034: val_accuracy did not improve from 0.89480\n",
            "1719/1719 [==============================] - 17s 10ms/step - loss: 0.5409 - accuracy: 0.8017 - val_loss: 0.3437 - val_accuracy: 0.8760\n",
            "Epoch 35/128\n",
            "1716/1719 [============================>.] - ETA: 0s - loss: 0.5397 - accuracy: 0.8001\n",
            "Epoch 00035: val_accuracy did not improve from 0.89480\n",
            "1719/1719 [==============================] - 16s 10ms/step - loss: 0.5398 - accuracy: 0.8000 - val_loss: 0.3302 - val_accuracy: 0.8760\n",
            "Epoch 36/128\n",
            "1715/1719 [============================>.] - ETA: 0s - loss: 0.5373 - accuracy: 0.7995\n",
            "Epoch 00036: val_accuracy did not improve from 0.89480\n",
            "1719/1719 [==============================] - 16s 10ms/step - loss: 0.5373 - accuracy: 0.7994 - val_loss: 0.3264 - val_accuracy: 0.8756\n",
            "Epoch 37/128\n",
            "1714/1719 [============================>.] - ETA: 0s - loss: 0.5409 - accuracy: 0.8018\n",
            "Epoch 00037: val_accuracy did not improve from 0.89480\n",
            "1719/1719 [==============================] - 16s 10ms/step - loss: 0.5411 - accuracy: 0.8017 - val_loss: 0.3344 - val_accuracy: 0.8720\n",
            "Epoch 38/128\n",
            "1718/1719 [============================>.] - ETA: 0s - loss: 0.5384 - accuracy: 0.7999\n",
            "Epoch 00038: val_accuracy did not improve from 0.89480\n",
            "1719/1719 [==============================] - 16s 9ms/step - loss: 0.5382 - accuracy: 0.8000 - val_loss: 0.3345 - val_accuracy: 0.8760\n",
            "Epoch 39/128\n",
            "1715/1719 [============================>.] - ETA: 0s - loss: 0.5395 - accuracy: 0.8018\n",
            "Epoch 00039: val_accuracy did not improve from 0.89480\n",
            "1719/1719 [==============================] - 16s 9ms/step - loss: 0.5393 - accuracy: 0.8018 - val_loss: 0.3303 - val_accuracy: 0.8746\n",
            "Epoch 40/128\n",
            "1714/1719 [============================>.] - ETA: 0s - loss: 0.5355 - accuracy: 0.8020\n",
            "Epoch 00040: val_accuracy did not improve from 0.89480\n",
            "1719/1719 [==============================] - 16s 9ms/step - loss: 0.5362 - accuracy: 0.8020 - val_loss: 0.3537 - val_accuracy: 0.8660\n",
            "Epoch 41/128\n",
            "1715/1719 [============================>.] - ETA: 0s - loss: 0.5463 - accuracy: 0.7988\n",
            "Epoch 00041: val_accuracy did not improve from 0.89480\n",
            "1719/1719 [==============================] - 16s 9ms/step - loss: 0.5464 - accuracy: 0.7987 - val_loss: 0.3418 - val_accuracy: 0.8656\n",
            "Epoch 42/128\n",
            "1719/1719 [==============================] - ETA: 0s - loss: 0.5401 - accuracy: 0.8017\n",
            "Epoch 00042: val_accuracy did not improve from 0.89480\n",
            "1719/1719 [==============================] - 16s 9ms/step - loss: 0.5401 - accuracy: 0.8017 - val_loss: 0.3366 - val_accuracy: 0.8728\n",
            "Epoch 43/128\n",
            "1719/1719 [==============================] - ETA: 0s - loss: 0.5384 - accuracy: 0.8007\n",
            "Epoch 00043: val_accuracy did not improve from 0.89480\n",
            "1719/1719 [==============================] - 16s 9ms/step - loss: 0.5384 - accuracy: 0.8007 - val_loss: 0.3358 - val_accuracy: 0.8744\n",
            "Epoch 44/128\n",
            "1718/1719 [============================>.] - ETA: 0s - loss: 0.5439 - accuracy: 0.8012\n",
            "Epoch 00044: val_accuracy did not improve from 0.89480\n",
            "1719/1719 [==============================] - 16s 10ms/step - loss: 0.5440 - accuracy: 0.8011 - val_loss: 0.3353 - val_accuracy: 0.8716\n",
            "Epoch 45/128\n",
            "1718/1719 [============================>.] - ETA: 0s - loss: 0.5366 - accuracy: 0.8023\n",
            "Epoch 00045: val_accuracy did not improve from 0.89480\n",
            "1719/1719 [==============================] - 16s 9ms/step - loss: 0.5364 - accuracy: 0.8023 - val_loss: 0.3481 - val_accuracy: 0.8700\n",
            "Epoch 46/128\n",
            "1715/1719 [============================>.] - ETA: 0s - loss: 0.5372 - accuracy: 0.8031\n",
            "Epoch 00046: val_accuracy did not improve from 0.89480\n",
            "1719/1719 [==============================] - 16s 9ms/step - loss: 0.5373 - accuracy: 0.8030 - val_loss: 0.3340 - val_accuracy: 0.8702\n",
            "Epoch 47/128\n",
            "1716/1719 [============================>.] - ETA: 0s - loss: 0.5394 - accuracy: 0.8012\n",
            "Epoch 00047: val_accuracy did not improve from 0.89480\n",
            "1719/1719 [==============================] - 16s 10ms/step - loss: 0.5393 - accuracy: 0.8012 - val_loss: 0.3503 - val_accuracy: 0.8708\n",
            "Epoch 48/128\n",
            "1715/1719 [============================>.] - ETA: 0s - loss: 0.5379 - accuracy: 0.8007\n",
            "Epoch 00048: val_accuracy did not improve from 0.89480\n",
            "1719/1719 [==============================] - 16s 9ms/step - loss: 0.5380 - accuracy: 0.8005 - val_loss: 0.3439 - val_accuracy: 0.8738\n",
            "Epoch 49/128\n",
            "1715/1719 [============================>.] - ETA: 0s - loss: 0.5399 - accuracy: 0.8030\n",
            "Epoch 00049: val_accuracy did not improve from 0.89480\n",
            "1719/1719 [==============================] - 16s 10ms/step - loss: 0.5399 - accuracy: 0.8029 - val_loss: 0.3468 - val_accuracy: 0.8640\n",
            "Epoch 50/128\n",
            "1719/1719 [==============================] - ETA: 0s - loss: 0.5298 - accuracy: 0.8044\n",
            "Epoch 00050: val_accuracy did not improve from 0.89480\n",
            "1719/1719 [==============================] - 16s 10ms/step - loss: 0.5298 - accuracy: 0.8044 - val_loss: 0.3400 - val_accuracy: 0.8682\n",
            "Epoch 51/128\n",
            "1717/1719 [============================>.] - ETA: 0s - loss: 0.5311 - accuracy: 0.8037\n",
            "Epoch 00051: val_accuracy did not improve from 0.89480\n",
            "1719/1719 [==============================] - 16s 9ms/step - loss: 0.5314 - accuracy: 0.8036 - val_loss: 0.3391 - val_accuracy: 0.8728\n",
            "Epoch 52/128\n",
            "1718/1719 [============================>.] - ETA: 0s - loss: 0.5309 - accuracy: 0.8030\n",
            "Epoch 00052: val_accuracy did not improve from 0.89480\n",
            "1719/1719 [==============================] - 16s 9ms/step - loss: 0.5309 - accuracy: 0.8030 - val_loss: 0.3387 - val_accuracy: 0.8726\n",
            "Epoch 53/128\n",
            "1718/1719 [============================>.] - ETA: 0s - loss: 0.5353 - accuracy: 0.8016\n",
            "Epoch 00053: val_accuracy did not improve from 0.89480\n",
            "1719/1719 [==============================] - 17s 10ms/step - loss: 0.5362 - accuracy: 0.8015 - val_loss: 0.3376 - val_accuracy: 0.8680\n",
            "Epoch 54/128\n",
            "1714/1719 [============================>.] - ETA: 0s - loss: 0.5360 - accuracy: 0.8050\n",
            "Epoch 00054: val_accuracy did not improve from 0.89480\n",
            "1719/1719 [==============================] - 16s 9ms/step - loss: 0.5358 - accuracy: 0.8050 - val_loss: 0.3420 - val_accuracy: 0.8716\n",
            "Epoch 55/128\n",
            "1719/1719 [==============================] - ETA: 0s - loss: 0.5313 - accuracy: 0.8036\n",
            "Epoch 00055: val_accuracy did not improve from 0.89480\n",
            "1719/1719 [==============================] - 16s 9ms/step - loss: 0.5313 - accuracy: 0.8036 - val_loss: 0.3295 - val_accuracy: 0.8758\n",
            "Epoch 56/128\n",
            "1038/1719 [=================>............] - ETA: 6s - loss: 0.5309 - accuracy: 0.8018"
          ],
          "name": "stdout"
        }
      ]
    },
    {
      "cell_type": "code",
      "metadata": {
        "id": "UwTEEG8OpfUm"
      },
      "source": [
        "#Plots (Optional)\n"
      ],
      "execution_count": null,
      "outputs": []
    },
    {
      "cell_type": "code",
      "metadata": {
        "id": "-DVt4pdopfUr",
        "colab": {
          "base_uri": "https://localhost:8080/",
          "height": 244
        },
        "outputId": "fbcc42e2-e432-4eeb-803c-d13177f3d921"
      },
      "source": [
        "#Tester cell to see if your model is beating my results\n",
        "score = model.evaluate(X_test, y_test)\n",
        "print(\"loss:\", score[0], \"acc:\", score[1])\n",
        "assert 0.89 < score[1], \"Accuracy not high enough\""
      ],
      "execution_count": 17,
      "outputs": [
        {
          "output_type": "stream",
          "text": [
            "313/313 [==============================] - 1s 2ms/step - loss: 0.3430 - accuracy: 0.8755\n",
            "loss: 0.3429545760154724 acc: 0.8755000233650208\n"
          ],
          "name": "stdout"
        },
        {
          "output_type": "error",
          "ename": "AssertionError",
          "evalue": "ignored",
          "traceback": [
            "\u001b[0;31m---------------------------------------------------------------------------\u001b[0m",
            "\u001b[0;31mAssertionError\u001b[0m                            Traceback (most recent call last)",
            "\u001b[0;32m<ipython-input-17-cb259bece2e3>\u001b[0m in \u001b[0;36m<module>\u001b[0;34m()\u001b[0m\n\u001b[1;32m      2\u001b[0m \u001b[0mscore\u001b[0m \u001b[0;34m=\u001b[0m \u001b[0mmodel\u001b[0m\u001b[0;34m.\u001b[0m\u001b[0mevaluate\u001b[0m\u001b[0;34m(\u001b[0m\u001b[0mX_test\u001b[0m\u001b[0;34m,\u001b[0m \u001b[0my_test\u001b[0m\u001b[0;34m)\u001b[0m\u001b[0;34m\u001b[0m\u001b[0;34m\u001b[0m\u001b[0m\n\u001b[1;32m      3\u001b[0m \u001b[0mprint\u001b[0m\u001b[0;34m(\u001b[0m\u001b[0;34m\"loss:\"\u001b[0m\u001b[0;34m,\u001b[0m \u001b[0mscore\u001b[0m\u001b[0;34m[\u001b[0m\u001b[0;36m0\u001b[0m\u001b[0;34m]\u001b[0m\u001b[0;34m,\u001b[0m \u001b[0;34m\"acc:\"\u001b[0m\u001b[0;34m,\u001b[0m \u001b[0mscore\u001b[0m\u001b[0;34m[\u001b[0m\u001b[0;36m1\u001b[0m\u001b[0;34m]\u001b[0m\u001b[0;34m)\u001b[0m\u001b[0;34m\u001b[0m\u001b[0;34m\u001b[0m\u001b[0m\n\u001b[0;32m----> 4\u001b[0;31m \u001b[0;32massert\u001b[0m \u001b[0;36m0.89\u001b[0m \u001b[0;34m<\u001b[0m \u001b[0mscore\u001b[0m\u001b[0;34m[\u001b[0m\u001b[0;36m1\u001b[0m\u001b[0;34m]\u001b[0m\u001b[0;34m,\u001b[0m \u001b[0;34m\"Accuracy not high enough\"\u001b[0m\u001b[0;34m\u001b[0m\u001b[0;34m\u001b[0m\u001b[0m\n\u001b[0m",
            "\u001b[0;31mAssertionError\u001b[0m: Accuracy not high enough"
          ]
        }
      ]
    },
    {
      "cell_type": "markdown",
      "metadata": {
        "id": "sgfFHEkipfUw"
      },
      "source": [
        "Try to get above 89% accuracy for both train and test using various hyperparameters.\n",
        "\n",
        "What label is the most mislabeled (contains the most error) in this model? Plot a confusion matrix showing this. Does it make sense? Plot several datapoints using `plotImage` to find out."
      ]
    },
    {
      "cell_type": "code",
      "metadata": {
        "id": "oa7jY_B2pfUw"
      },
      "source": [
        "#Confusion Matrix\n",
        "import itertools\n",
        "cm = confusion_matrix(y_test, np.argmax(model.predict(X_test), axis = -1))\n",
        "plt.figure(figsize=(10, 10))\n",
        "plt.imshow(cm, plt.cm.Blues)\n",
        "plt.colorbar()\n",
        "plt.title(\"Confusion Matrix For Model vs True Labels\", size = 20)\n",
        "fmt = 'd'\n",
        "thresh = cm.max() / 2.\n",
        "for i, j in itertools.product(range(cm.shape[0]), range(cm.shape[1])):\n",
        "    plt.text(j, i, format(cm[i, j], fmt),\n",
        "              horizontalalignment=\"center\",\n",
        "              color=\"white\" if cm[i, j] > thresh else \"black\")\n",
        "plt.xlabel(\"Predicted Labels\", size = 15)\n",
        "plt.xticks(np.arange(0, 10), labels=labels, rotation = 45)\n",
        "plt.ylabel(\"True Labels\", size = 15)\n",
        "plt.yticks(np.arange(0, 10), labels=labels)\n",
        "plt.show()"
      ],
      "execution_count": null,
      "outputs": []
    },
    {
      "cell_type": "markdown",
      "metadata": {
        "id": "Etcq-lGqpfU0"
      },
      "source": [
        "## Question 3: Bonus - EMNIST"
      ]
    },
    {
      "cell_type": "markdown",
      "metadata": {
        "id": "2qhzfZO2pfU0"
      },
      "source": [
        "EMNIST is an expansion of MNIST on [Kaggle](https://www.kaggle.com/crawford/emnist). If you feel you still need some practice, feel free to check it out. Others have made notebooks on Kaggle with other fancy techniques. Explore if you have time!\n",
        "\n",
        "If you're interested in similar preprocessed datasets, check out this website: https://analyticsindiamag.com/fashion-and-medical-mnist/. They link to medical datasets and a sign language-like MNIST."
      ]
    },
    {
      "cell_type": "markdown",
      "metadata": {
        "id": "Ww13vYIIURGV"
      },
      "source": [
        "## Submission\n",
        "\n",
        "Once you're ready to submit, turn in a copy of this Jupyter notebook and a PDF copy of it. For the PDF, please label the pages of questions 1, 2, and (optionally) 3.\n",
        "\n",
        "Locally, there should a \"Download as\" under \"File\" and PDF should be an option. \n",
        "\n",
        "If you're doing this assignment using Colab, Colab does not have this PDF option. I recommend openning this notebook using IPython/Jupyter Notebook locally and doing the instruction above. If you're resistant to this option, there are other options. If you're on a Mac, a hack you can do is to print this page and before you print, save the file as a PDF instead of printing. \n",
        "\n",
        "An alternative is to save your Colab notebook as an HTML file and convert that into a PDF (using a third party website like https://html2pdf.com/ or a browser extension like https://chrome.google.com/webstore/detail/web-page-to-pdf-converter/bbfoccanbdeldjaelafmbgonagegdndg). Converting HTMLs into PDFs tends to be easier/more common than ipynb to PDFs. If you need additional help, please feel free to Slack Kevin or Jess for aid!"
      ]
    }
  ]
}